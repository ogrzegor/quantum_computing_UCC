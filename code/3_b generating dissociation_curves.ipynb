{
 "cells": [
  {
   "attachments": {},
   "cell_type": "markdown",
   "metadata": {},
   "source": [
    "In this notebook quantum_ucc_ansatz.py is used to generate dissociation curves"
   ]
  },
  {
   "cell_type": "code",
   "execution_count": 1,
   "metadata": {},
   "outputs": [],
   "source": [
    "import quantum_UCC_ansatz as qucca\n",
    "\n",
    "import numpy as np\n",
    "\n",
    "from qiskit_nature.second_q.drivers import PySCFDriver\n",
    "\n",
    "from pyscf import gto, cc, dft, scf\n",
    "from pyscf.fci import FCI\n",
    "\n",
    "import psi4\n",
    "from CID_code import calculate_CID\n",
    "\n",
    "import pickle"
   ]
  },
  {
   "attachments": {},
   "cell_type": "markdown",
   "metadata": {},
   "source": [
    "Defining the linspace"
   ]
  },
  {
   "cell_type": "code",
   "execution_count": 2,
   "metadata": {},
   "outputs": [],
   "source": [
    "lin = np.linspace(0.4, 4.5, 5)"
   ]
  },
  {
   "cell_type": "code",
   "execution_count": 3,
   "metadata": {},
   "outputs": [
    {
     "name": "stdout",
     "output_type": "stream",
     "text": [
      "-------------------- \n",
      "r = 0.4\n",
      " --------------------\n",
      "UCCS\n"
     ]
    },
    {
     "name": "stderr",
     "output_type": "stream",
     "text": [
      "/usr/local/miniconda3/lib/python3.7/site-packages/qiskit_nature/deprecation.py:297: PauliSumOpDeprecationWarning: PauliSumOp is deprecated as of version 0.6.0 and support for them will be removed no sooner than 3 months after the release. Instead, use SparsePauliOp. You can switch to SparsePauliOp immediately, by setting `qiskit_nature.settings.use_pauli_sum_op` to `False`.\n",
      "  return func(*args, **kwargs)\n"
     ]
    },
    {
     "name": "stdout",
     "output_type": "stream",
     "text": [
      "pUCCD\n",
      "pUCCSD\n",
      "fci\n",
      "converged SCF energy = -0.90436139416354\n",
      "hf\n",
      "converged SCF energy = -0.90436139416354\n",
      "converged SCF energy = -0.90436139416354\n",
      "E(CCSD) = -0.9141497227610512  E_corr = -0.009788328597511399\n",
      "CCSD(T) correction = -5.72138477802078e-47\n",
      "-------------------- \n",
      "r = 1.4249999999999998\n",
      " --------------------\n",
      "UCCS\n",
      "pUCCD\n",
      "pUCCSD\n",
      "fci\n",
      "converged SCF energy = -0.933712442025504\n",
      "hf\n",
      "converged SCF energy = -0.933712442025504\n",
      "converged SCF energy = -0.933712442025504\n",
      "E(CCSD) = -1.010899108880724  E_corr = -0.07718666685521931\n",
      "CCSD(T) correction = 1.61373927959149e-47\n",
      "-------------------- \n",
      "r = 2.4499999999999997\n",
      " --------------------\n",
      "UCCS\n",
      "pUCCD\n",
      "pUCCSD\n",
      "fci\n",
      "converged SCF energy = -0.709250219239347\n",
      "hf\n",
      "converged SCF energy = -0.709250219239347\n",
      "converged SCF energy = -0.709250219239347\n",
      "E(CCSD) = -0.936605256421879  E_corr = -0.2273550371825316\n",
      "CCSD(T) correction = 0\n",
      "-------------------- \n",
      "r = 3.4749999999999996\n",
      " --------------------\n",
      "UCCS\n",
      "pUCCD\n",
      "pUCCSD\n",
      "fci\n",
      "converged SCF energy = -0.630801403043984\n",
      "hf\n",
      "converged SCF energy = -0.630801403043984\n",
      "converged SCF energy = -0.630801403043984\n",
      "E(CCSD) = -0.9332354050823872  E_corr = -0.3024340020384035\n",
      "CCSD(T) correction = -8.14944534664472e-40\n",
      "-------------------- \n",
      "r = 4.5\n",
      " --------------------\n",
      "UCCS\n",
      "pUCCD\n",
      "pUCCSD\n",
      "fci\n",
      "converged SCF energy = -0.605545939700977\n",
      "hf\n",
      "converged SCF energy = -0.605545939700977\n",
      "converged SCF energy = -0.605545939700977\n",
      "E(CCSD) = -0.9331644694145356  E_corr = -0.3276185297135586\n",
      "CCSD(T) correction = -7.25937295562181e-38\n"
     ]
    }
   ],
   "source": [
    "# classical_CC = []\n",
    "UCCS = []\n",
    "pUCCD = []\n",
    "pUCCSD = []\n",
    "\n",
    "classical_CCSD = []\n",
    "classical_CCSD_T = []\n",
    "\n",
    "# comp_UCCS = []\n",
    "# comp_pUCCD = []\n",
    "# comp_pUCCSD = []\n",
    "\n",
    "fci = []\n",
    "cid = []\n",
    "hf = []\n",
    "\n",
    "for r in lin:\n",
    "\n",
    "    print(\"-\"*20, f\"\\nr = {r}\\n\", \"-\"*20)\n",
    "\n",
    "    driver = PySCFDriver(atom=f\"H 0 0 0; H 0 0 {r}\", spin=0, basis=\"sto-3g\")\n",
    "    mol = driver.run()\n",
    "\n",
    "    # singles\n",
    "    print(\"UCCS\")\n",
    "    ansatz = qucca.CustomAnsatz(mol, singles=True)\n",
    "    UCCS.append(qucca.solve(mol, ansatz.circuit))\n",
    "\n",
    "    # # compressed singles\n",
    "    # ansatz = qucca.CustomAnsatz(mol)\n",
    "    # for exc in ansatz.generate_CCS_excitations():\n",
    "    #     ansatz.add_compressed_single(exc[0], exc[1])\n",
    "    # comp_UCCS.append(qucca.solve(mol, ansatz.circuit))\n",
    "\n",
    "    # pair doubles\n",
    "    print(\"pUCCD\")\n",
    "    ansatz = qucca.CustomAnsatz(mol, pair_doubles=True)\n",
    "    pUCCD.append(qucca.solve(mol, ansatz.circuit))\n",
    "\n",
    "    # # compressed pair doubles\n",
    "    # ansatz = qucca.CustomAnsatz(mol)\n",
    "    # for exc in ansatz.generate_pCCD_excitations():\n",
    "    #     ansatz.add_compressed_double(exc[0], exc[1])\n",
    "    # comp_pUCCD.append(qucca.solve(mol, ansatz.circuit))\n",
    "\n",
    "    # singles & pair doubles\n",
    "    print(\"pUCCSD\")\n",
    "    ansatz = qucca.CustomAnsatz(mol, singles=True, pair_doubles=True)\n",
    "    pUCCSD.append(qucca.solve(mol, ansatz.circuit))\n",
    "\n",
    "    # # compressed UpCCSD\n",
    "    # ansatz = qucca.CustomAnsatz(mol)\n",
    "    # for exc in ansatz.generate_CCS_excitations():\n",
    "    #     ansatz.add_compressed_single(exc[0], exc[1])\n",
    "    # for exc in ansatz.generate_pCCD_excitations():\n",
    "    #     ansatz.add_compressed_double(exc[0], exc[1])\n",
    "    # comp_pUCCSD.append(qucca.solve(mol, ansatz.circuit))\n",
    "\n",
    "\n",
    "    mol = gto.Mole()\n",
    "    mol.atom = f\"H 0 0 0; H 0 0 {r}\"\n",
    "    mol.basis = 'sto-3g'\n",
    "    mol.spin=0\n",
    "    mol.build()\n",
    "\n",
    "    # fci\n",
    "    print(\"fci\")\n",
    "    mf = mol.RHF().run()\n",
    "    cisolver = FCI(mf)\n",
    "    fci.append(cisolver.kernel()[0])\n",
    "\n",
    "    # hf\n",
    "    print(\"hf\")\n",
    "    mf = scf.RHF(mol)\n",
    "    hf.append(mf.kernel())\n",
    "\n",
    "    # cc\n",
    "    mf = scf.HF(mol).run()\n",
    "    # Note that the line following these comments could be replaced by\n",
    "    # mycc = cc.CCSD(mf)\n",
    "    # mycc.kernel()\n",
    "    mycc = cc.CCSD(mf).run()\n",
    "    classical_CCSD.append(mycc.e_tot)\n",
    "    et = mycc.ccsd_t()\n",
    "    classical_CCSD_T.append(mycc.e_tot + et)\n",
    "\n",
    "\n",
    "    mol = psi4.geometry(f\"\"\"\n",
    "                        H 0 0 0\n",
    "                        H 0 0 {r}\n",
    "                        symmetry c1\n",
    "                        \"\"\")\n",
    "\n",
    "    psi4.set_options({'basis': 'sto-3g',\n",
    "                    'scf_type': 'pk',\n",
    "                    'e_convergence': 1e-8,\n",
    "                    'd_convergence': 1e-8})\n",
    "\n",
    "    scf_e, wfn = psi4.energy('SCF', return_wfn=True)\n",
    "    cid.append(calculate_CID(mol, scf_e, wfn))"
   ]
  },
  {
   "cell_type": "code",
   "execution_count": 4,
   "metadata": {},
   "outputs": [],
   "source": [
    "# from datetime import datetime\n",
    "# import pickle\n",
    "# import os\n",
    "\n",
    "\n",
    "# now = datetime.now()\n",
    "\n",
    "# name = now.strftime(f\"%d-%m-%y_%H-%M_LiH_lin\")\n",
    "# with open( os.path.join(\"saved_calculations\", f\"{name}.pkl\"), 'wb') as file:\n",
    "#     pickle.dump(lin, file)\n",
    "\n",
    "# name = now.strftime(f\"%d-%m-%y_%H-%M_LiH_UCCS\")\n",
    "# with open( os.path.join(\"saved_calculations\", f\"{name}.pkl\"), 'wb') as file:\n",
    "#     pickle.dump(UCCS, file)\n",
    "\n",
    "# name = now.strftime(f\"%d-%m-%y_%H-%M_LiH_pUCCD\")\n",
    "# with open( os.path.join(\"saved_calculations\", f\"{name}.pkl\"), 'wb') as file:\n",
    "#     pickle.dump(pUCCD, file)\n",
    "\n",
    "# name = now.strftime(f\"%d-%m-%y_%H-%M_LiH_pUCCSD\")\n",
    "# with open( os.path.join(\"saved_calculations\", f\"{name}.pkl\"), 'wb') as file:\n",
    "#     pickle.dump(pUCCSD, file)\n",
    "\n",
    "# name = now.strftime(f\"%d-%m-%y_%H-%M_LiH_comp_UCCS\")\n",
    "# with open( os.path.join(\"saved_calculations\", f\"{name}.pkl\"), 'wb') as file:\n",
    "#     pickle.dump(comp_UCCS, file)\n",
    "\n",
    "# name = now.strftime(f\"%d-%m-%y_%H-%M_LiH_comp_pUCCD\")\n",
    "# with open( os.path.join(\"saved_calculations\", f\"{name}.pkl\"), 'wb') as file:\n",
    "#     pickle.dump(comp_pUCCD, file)\n",
    "\n",
    "# name = now.strftime(f\"%d-%m-%y_%H-%M_LiH_comp_pUCCSD\")\n",
    "# with open( os.path.join(\"saved_calculations\", f\"{name}.pkl\"), 'wb') as file:\n",
    "#     pickle.dump(comp_pUCCSD, file)\n",
    "\n",
    "# name = now.strftime(f\"%d-%m-%y_%H-%M_LiH_fci\")\n",
    "# with open( os.path.join(\"saved_calculations\", f\"{name}.pkl\"), 'wb') as file:\n",
    "#     pickle.dump(fci, file)\n",
    "\n",
    "# name = now.strftime(f\"%d-%m-%y_%H-%M_LiH_hf\")\n",
    "# with open( os.path.join(\"saved_calculations\", f\"{name}.pkl\"), 'wb') as file:\n",
    "#     pickle.dump(hf, file)"
   ]
  },
  {
   "cell_type": "code",
   "execution_count": 5,
   "metadata": {},
   "outputs": [],
   "source": [
    "# classical_CCSD = []\n",
    "# classical_CCSD_T = []\n",
    "\n",
    "# fci = []\n",
    "# hf = []\n",
    "\n",
    "# for r in lin:\n",
    "\n",
    "#     print(\"-\"*20, f\"\\nr = {r}\\n\", \"-\"*20)\n",
    "\n",
    "#     mol = gto.Mole()\n",
    "#     mol.atom = f\"H 0 0 0; Li 0 0 {r}\"\n",
    "#     mol.basis = 'sto-3g'\n",
    "#     mol.spin=0\n",
    "#     mol.build()\n",
    "\n",
    "#     # fci\n",
    "#     print(\"fci\")\n",
    "#     mf = mol.RHF().run()\n",
    "#     cisolver = FCI(mf)\n",
    "#     fci.append(cisolver.kernel()[0])\n",
    "\n",
    "#     # hf\n",
    "#     print(\"hf\")\n",
    "#     mf = scf.RHF(mol)\n",
    "#     hf.append(mf.kernel())\n",
    "\n",
    "#     # cc\n",
    "#     mf = scf.HF(mol).run()\n",
    "#     # Note that the line following these comments could be replaced by\n",
    "#     # mycc = cc.CCSD(mf)\n",
    "#     # mycc.kernel()\n",
    "#     mycc = cc.CCSD(mf).run()\n",
    "#     classical_CCSD.append(mycc.e_tot)\n",
    "#     et = mycc.ccsd_t()\n",
    "#     classical_CCSD_T.append(mycc.e_tot + et)\n",
    "    "
   ]
  },
  {
   "cell_type": "code",
   "execution_count": 6,
   "metadata": {},
   "outputs": [],
   "source": [
    "# with open(\"saved_calculations/21-06-23_17-19_LiH_pUCCSD.pkl\", \"rb\") as file:\n",
    "#     pUCCSD = pickle.load(file)"
   ]
  },
  {
   "cell_type": "code",
   "execution_count": 7,
   "metadata": {},
   "outputs": [],
   "source": [
    "# for r, f, csd, csdt, sd in zip( lin, fci, classical_CCSD, classical_CCSD_T, pUCCSD):\n",
    "#     print(f\"r = {r}\\nfci = {round(f,6)} | pUCCSD = {round(sd,6)} | diff = {round( sd - f, 6)}\")\n",
    "#     print(f\"r = {r}\\nfci = {round(f,6)} | CCSD = {round(csd,6)} | diff = {round( csd - f, 6)}\")\n",
    "#     print(f\"r = {r}\\nfci = {round(f,6)} | CCSDT = {round(csdt,6)} | diff = {round( csdt - f, 6)}\")\n",
    "#     print(\"\\n\")"
   ]
  },
  {
   "cell_type": "code",
   "execution_count": 4,
   "metadata": {},
   "outputs": [
    {
     "data": {
      "image/png": "[encoded data removed]",
      "text/plain": [
       "<Figure size 1152x648 with 1 Axes>"
      ]
     },
     "metadata": {
      "needs_background": "light"
     },
     "output_type": "display_data"
    }
   ],
   "source": [
    "import matplotlib.pyplot as plt\n",
    "\n",
    "# Set font size\n",
    "plt.rcParams['font.size'] = 27\n",
    "\n",
    "plt.figure(figsize=(16, 9))\n",
    "\n",
    "# plt.plot(lin, UCCS, label=\"UCCS ansatz\", lw=3)\n",
    "# plt.plot(lin, pUCCSD, label=\"pUCCSD ansatz\")\n",
    "\n",
    "# plt.plot(lin, classical_CCSD, label=\"pCCD\", ls=\"-\", lw=3)\n",
    "# plt.plot(lin, classical_CCSD_T, label=\"CCSD_T\")\n",
    "\n",
    "\n",
    "# plt.plot(lin, comp_UCCS, label=\"comp_UCCS ansatz\")\n",
    "# plt.plot(lin, comp_pUCCD, label=\"comp_pUCCD ansatz\")\n",
    "# plt.plot(lin, comp_pUCCSD, label=\"comp_pUCCSD ansatz\")\n",
    "\n",
    "plt.plot(lin, hf, label=\"HF, UCCS\", ls=\"-\", lw=3)\n",
    "plt.plot(lin, fci, label=\"FCI, pCCD, 1-UpCCGSD\", ls=\"-\", lw=3)\n",
    "\n",
    "# plt.plot(lin, cid, label=\"cid\", ls=\"-.\")\n",
    "\n",
    "# plt.plot(lin, pUCCD, label=\"1-UpCCGSD ansatz\", ls=\"-.\", lw=3)\n",
    "\n",
    "\n",
    "plt.legend()\n",
    "\n",
    "# plt.title(\"Comparison of dissociation curves of H2\")\n",
    "plt.xlabel('bond length [Å]')\n",
    "plt.ylabel('E [Ha]')\n",
    "\n",
    "plt.savefig(\"QC_UCC_HH.pdf\")"
   ]
  },
  {
   "attachments": {},
   "cell_type": "markdown",
   "metadata": {},
   "source": [
    "## Noisy computations"
   ]
  },
  {
   "attachments": {},
   "cell_type": "markdown",
   "metadata": {},
   "source": [
    "The noisy calculations are performed in tequila, which fails to create a molecule for certain bond lengths. Because of this the calculations are save in a pickle file. When a calculation fails, the previous ones can be retrieved from the pickle files, and after adjusting the linspace, the calculations can be continued. (if tequila fails for r=4.5, try r=4.50001)"
   ]
  },
  {
   "cell_type": "code",
   "execution_count": 6,
   "metadata": {},
   "outputs": [
    {
     "name": "stdout",
     "output_type": "stream",
     "text": [
      "-------------------- \n",
      "r = 0.4\n",
      " --------------------\n",
      "pUCCD\n",
      "0.18254872187069004\n",
      "-------------------- \n",
      "r = 1.4249999999999998\n",
      " --------------------\n",
      "pUCCD\n",
      "-0.8227049074670628\n",
      "-------------------- \n",
      "r = 2.4499999999999997\n",
      " --------------------\n",
      "pUCCD\n",
      "-0.5275160068794075\n",
      "-------------------- \n",
      "r = 3.4749999999999996\n",
      " --------------------\n",
      "pUCCD\n",
      "-0.6415514854404678\n",
      "-------------------- \n",
      "r = 4.5\n",
      " --------------------\n",
      "pUCCD\n",
      "-0.7267435326140982\n"
     ]
    }
   ],
   "source": [
    "# classical_CC = []\n",
    "# UCCS = []\n",
    "pUCCD_noisy = []\n",
    "# pUCCSD = []\n",
    "\n",
    "for r in lin:\n",
    "\n",
    "    print(\"-\"*20, f\"\\nr = {r}\\n\", \"-\"*20)\n",
    "\n",
    "    driver = PySCFDriver(atom=f\"H 0 0 0; H 0 0 {r}\", spin=0, basis=\"sto-3g\")\n",
    "    mol = driver.run()\n",
    "\n",
    "    # # singles\n",
    "    # print(\"UCCS\")\n",
    "    # ansatz = qucca.CustomAnsatz(mol, singles=True)\n",
    "    # UCCS.append(qucca.solve_noisy(mol, ansatz.circuit))\n",
    "\n",
    "    # pair doubles\n",
    "    print(\"pUCCD\")\n",
    "    ansatz = qucca.CustomAnsatz(mol, pair_doubles=True)\n",
    "    res = qucca.solve_noisy(mol, ansatz.circuit)\n",
    "    pUCCD_noisy.append(res)\n",
    "    print(res)\n",
    "\n",
    "    # # singles & pair doubles\n",
    "    # print(\"pUCCSD\")\n",
    "    # ansatz = qucca.CustomAnsatz(mol, singles=True, pair_doubles=True)\n",
    "    # pUCCSD.append(qucca.solve_noisy(mol, ansatz.circuit))"
   ]
  },
  {
   "cell_type": "code",
   "execution_count": 38,
   "metadata": {},
   "outputs": [],
   "source": [
    "lin = np.linspace(4.50001, 4.5, 1)"
   ]
  },
  {
   "cell_type": "code",
   "execution_count": 8,
   "metadata": {},
   "outputs": [
    {
     "ename": "FileNotFoundError",
     "evalue": "[Errno 2] No such file or directory: 'pUCCD_noisy_2_2.pkl'",
     "output_type": "error",
     "traceback": [
      "\u001b[0;31m---------------------------------------------------------------------------\u001b[0m",
      "\u001b[0;31mFileNotFoundError\u001b[0m                         Traceback (most recent call last)",
      "\u001b[0;32m<ipython-input-8-54f4b415e937>\u001b[0m in \u001b[0;36m<module>\u001b[0;34m\u001b[0m\n\u001b[0;32m----> 1\u001b[0;31m \u001b[0;32mwith\u001b[0m \u001b[0mopen\u001b[0m\u001b[0;34m(\u001b[0m\u001b[0;34m\"pUCCD_noisy_2_2.pkl\"\u001b[0m\u001b[0;34m,\u001b[0m \u001b[0;34m\"rb\"\u001b[0m\u001b[0;34m)\u001b[0m \u001b[0;32mas\u001b[0m \u001b[0mfile\u001b[0m\u001b[0;34m:\u001b[0m\u001b[0;34m\u001b[0m\u001b[0;34m\u001b[0m\u001b[0m\n\u001b[0m\u001b[1;32m      2\u001b[0m     \u001b[0mpUCCD_noisy_2\u001b[0m \u001b[0;34m=\u001b[0m \u001b[0mpickle\u001b[0m\u001b[0;34m.\u001b[0m\u001b[0mload\u001b[0m\u001b[0;34m(\u001b[0m\u001b[0mfile\u001b[0m\u001b[0;34m)\u001b[0m\u001b[0;34m\u001b[0m\u001b[0;34m\u001b[0m\u001b[0m\n\u001b[1;32m      3\u001b[0m \u001b[0;34m\u001b[0m\u001b[0m\n\u001b[1;32m      4\u001b[0m \u001b[0;32mwith\u001b[0m \u001b[0mopen\u001b[0m\u001b[0;34m(\u001b[0m\u001b[0;34m\"real_lin_2.pkl\"\u001b[0m\u001b[0;34m,\u001b[0m \u001b[0;34m\"rb\"\u001b[0m\u001b[0;34m)\u001b[0m \u001b[0;32mas\u001b[0m \u001b[0mfile\u001b[0m\u001b[0;34m:\u001b[0m\u001b[0;34m\u001b[0m\u001b[0;34m\u001b[0m\u001b[0m\n\u001b[1;32m      5\u001b[0m     \u001b[0mreal_lin\u001b[0m \u001b[0;34m=\u001b[0m \u001b[0mpickle\u001b[0m\u001b[0;34m.\u001b[0m\u001b[0mload\u001b[0m\u001b[0;34m(\u001b[0m\u001b[0mfile\u001b[0m\u001b[0;34m)\u001b[0m\u001b[0;34m\u001b[0m\u001b[0;34m\u001b[0m\u001b[0m\n",
      "\u001b[0;31mFileNotFoundError\u001b[0m: [Errno 2] No such file or directory: 'pUCCD_noisy_2_2.pkl'"
     ]
    }
   ],
   "source": [
    "with open(\"pUCCD_noisy_2_2.pkl\", \"rb\") as file:\n",
    "    pUCCD_noisy_2 = pickle.load(file)\n",
    "\n",
    "with open(\"real_lin_2.pkl\", \"rb\") as file:\n",
    "    real_lin = pickle.load(file)"
   ]
  },
  {
   "cell_type": "code",
   "execution_count": 10,
   "metadata": {},
   "outputs": [
    {
     "name": "stdout",
     "output_type": "stream",
     "text": [
      "-------------------- \n",
      "r = 0.4\n",
      " --------------------\n",
      "UpCCD\n",
      "Optimizer: <class 'tequila.optimizers.optimizer_scipy.OptimizerSciPy'> \n",
      "backend         : qiskit\n",
      "device          : fake_rome\n",
      "samples         : 1000000\n",
      "save_history    : True\n",
      "noise           : None\n",
      "\n",
      "Method          : COBYLA\n",
      "Objective       : 2 expectationvalues\n",
      "\n",
      "active variables : 2\n",
      "\n"
     ]
    },
    {
     "ename": "KeyboardInterrupt",
     "evalue": "",
     "output_type": "error",
     "traceback": [
      "\u001b[0;31m---------------------------------------------------------------------------\u001b[0m",
      "\u001b[0;31mKeyboardInterrupt\u001b[0m                         Traceback (most recent call last)",
      "\u001b[0;32m<ipython-input-10-e5507f739564>\u001b[0m in \u001b[0;36m<module>\u001b[0;34m\u001b[0m\n\u001b[1;32m     11\u001b[0m     \u001b[0mprint\u001b[0m\u001b[0;34m(\u001b[0m\u001b[0;34m\"UpCCD\"\u001b[0m\u001b[0;34m)\u001b[0m\u001b[0;34m\u001b[0m\u001b[0;34m\u001b[0m\u001b[0m\n\u001b[1;32m     12\u001b[0m     \u001b[0;31m# ansatz = qucca.CustomAnsatz(mol, pair_doubles=True)\u001b[0m\u001b[0;34m\u001b[0m\u001b[0;34m\u001b[0m\u001b[0;34m\u001b[0m\u001b[0m\n\u001b[0;32m---> 13\u001b[0;31m     \u001b[0mres\u001b[0m \u001b[0;34m=\u001b[0m \u001b[0mqucca\u001b[0m\u001b[0;34m.\u001b[0m\u001b[0msolve_noisy_2\u001b[0m\u001b[0;34m(\u001b[0m\u001b[0mr\u001b[0m\u001b[0;34m)\u001b[0m\u001b[0;34m\u001b[0m\u001b[0;34m\u001b[0m\u001b[0m\n\u001b[0m\u001b[1;32m     14\u001b[0m     \u001b[0mpUCCD_noisy_2\u001b[0m\u001b[0;34m.\u001b[0m\u001b[0mappend\u001b[0m\u001b[0;34m(\u001b[0m\u001b[0mres\u001b[0m\u001b[0;34m)\u001b[0m\u001b[0;34m\u001b[0m\u001b[0;34m\u001b[0m\u001b[0m\n\u001b[1;32m     15\u001b[0m     \u001b[0mprint\u001b[0m\u001b[0;34m(\u001b[0m\u001b[0mres\u001b[0m\u001b[0;34m)\u001b[0m\u001b[0;34m\u001b[0m\u001b[0;34m\u001b[0m\u001b[0m\n",
      "\u001b[0;32m/workspaces/computational-quantum-chemistry/quantum_computing-UCC/code/quantum_UCC_ansatz.py\u001b[0m in \u001b[0;36msolve_noisy_2\u001b[0;34m(r)\u001b[0m\n\u001b[1;32m    377\u001b[0m     \u001b[0mE2\u001b[0m \u001b[0;34m=\u001b[0m \u001b[0mtq\u001b[0m\u001b[0;34m.\u001b[0m\u001b[0mExpectationValue\u001b[0m\u001b[0;34m(\u001b[0m\u001b[0mH\u001b[0m\u001b[0;34m=\u001b[0m\u001b[0mH\u001b[0m\u001b[0;34m,\u001b[0m \u001b[0mU\u001b[0m\u001b[0;34m=\u001b[0m\u001b[0mUpCCGSD\u001b[0m\u001b[0;34m,\u001b[0m \u001b[0moptimize_measurements\u001b[0m\u001b[0;34m=\u001b[0m\u001b[0;32mTrue\u001b[0m\u001b[0;34m)\u001b[0m\u001b[0;34m\u001b[0m\u001b[0;34m\u001b[0m\u001b[0m\n\u001b[1;32m    378\u001b[0m     \u001b[0;31m# ucc = tq.minimize(method=\"cobyla\", objective=E2, initial_values=0.0)\u001b[0m\u001b[0;34m\u001b[0m\u001b[0;34m\u001b[0m\u001b[0;34m\u001b[0m\u001b[0m\n\u001b[0;32m--> 379\u001b[0;31m     \u001b[0mnoisy_ucc\u001b[0m \u001b[0;34m=\u001b[0m \u001b[0mtq\u001b[0m\u001b[0;34m.\u001b[0m\u001b[0mminimize\u001b[0m\u001b[0;34m(\u001b[0m\u001b[0mmethod\u001b[0m\u001b[0;34m=\u001b[0m\u001b[0;34m\"cobyla\"\u001b[0m\u001b[0;34m,\u001b[0m \u001b[0mobjective\u001b[0m\u001b[0;34m=\u001b[0m\u001b[0mE2\u001b[0m\u001b[0;34m,\u001b[0m \u001b[0msamples\u001b[0m\u001b[0;34m=\u001b[0m\u001b[0msamples\u001b[0m\u001b[0;34m,\u001b[0m  \u001b[0mbackend\u001b[0m\u001b[0;34m=\u001b[0m\u001b[0mbackend\u001b[0m\u001b[0;34m,\u001b[0m \u001b[0mdevice\u001b[0m\u001b[0;34m=\u001b[0m\u001b[0mdevice\u001b[0m\u001b[0;34m,\u001b[0m \u001b[0minitial_values\u001b[0m\u001b[0;34m=\u001b[0m\u001b[0;36m0.0\u001b[0m\u001b[0;34m)\u001b[0m\u001b[0;34m\u001b[0m\u001b[0;34m\u001b[0m\u001b[0m\n\u001b[0m\u001b[1;32m    380\u001b[0m \u001b[0;34m\u001b[0m\u001b[0m\n\u001b[1;32m    381\u001b[0m     \u001b[0;31m# print(\"VQE         = {:2.8f}\".format(min(vqe.history.energies)))\u001b[0m\u001b[0;34m\u001b[0m\u001b[0;34m\u001b[0m\u001b[0;34m\u001b[0m\u001b[0m\n",
      "\u001b[0;32m/usr/local/miniconda3/lib//python3.7/site-packages/tequila/optimizers/__init__.py\u001b[0m in \u001b[0;36mminimize\u001b[0;34m(objective, method, variables, initial_values, maxiter, *args, **kwargs)\u001b[0m\n\u001b[1;32m    142\u001b[0m                 \u001b[0minitial_values\u001b[0m\u001b[0;34m=\u001b[0m\u001b[0minitial_values\u001b[0m\u001b[0;34m,\u001b[0m\u001b[0;34m\u001b[0m\u001b[0;34m\u001b[0m\u001b[0m\n\u001b[1;32m    143\u001b[0m                 \u001b[0mmaxiter\u001b[0m\u001b[0;34m=\u001b[0m\u001b[0mmaxiter\u001b[0m\u001b[0;34m,\u001b[0m\u001b[0;34m\u001b[0m\u001b[0;34m\u001b[0m\u001b[0m\n\u001b[0;32m--> 144\u001b[0;31m                 *args, **kwargs)\n\u001b[0m\u001b[1;32m    145\u001b[0m \u001b[0;34m\u001b[0m\u001b[0m\n\u001b[1;32m    146\u001b[0m     raise TequilaOptimizerException(\n",
      "\u001b[0;32m/usr/local/miniconda3/lib//python3.7/site-packages/tequila/optimizers/optimizer_scipy.py\u001b[0m in \u001b[0;36mminimize\u001b[0;34m(objective, gradient, hessian, initial_values, variables, samples, maxiter, backend, backend_options, noise, device, method, tol, method_options, method_bounds, method_constraints, silent, save_history, *args, **kwargs)\u001b[0m\n\u001b[1;32m    426\u001b[0m                      \u001b[0mhessian\u001b[0m\u001b[0;34m=\u001b[0m\u001b[0mhessian\u001b[0m\u001b[0;34m,\u001b[0m\u001b[0;34m\u001b[0m\u001b[0;34m\u001b[0m\u001b[0m\n\u001b[1;32m    427\u001b[0m                      \u001b[0minitial_values\u001b[0m\u001b[0;34m=\u001b[0m\u001b[0minitial_values\u001b[0m\u001b[0;34m,\u001b[0m\u001b[0;34m\u001b[0m\u001b[0;34m\u001b[0m\u001b[0m\n\u001b[0;32m--> 428\u001b[0;31m                      variables=variables, *args, **kwargs)\n\u001b[0m",
      "\u001b[0;32m/usr/local/miniconda3/lib//python3.7/site-packages/tequila/optimizers/optimizer_scipy.py\u001b[0m in \u001b[0;36m__call__\u001b[0;34m(self, objective, variables, initial_values, gradient, hessian, reset_history, *args, **kwargs)\u001b[0m\n\u001b[1;32m    268\u001b[0m                                       \u001b[0mconstraints\u001b[0m\u001b[0;34m=\u001b[0m\u001b[0mself\u001b[0m\u001b[0;34m.\u001b[0m\u001b[0mmethod_constraints\u001b[0m\u001b[0;34m,\u001b[0m\u001b[0;34m\u001b[0m\u001b[0;34m\u001b[0m\u001b[0m\n\u001b[1;32m    269\u001b[0m                                       \u001b[0moptions\u001b[0m\u001b[0;34m=\u001b[0m\u001b[0mself\u001b[0m\u001b[0;34m.\u001b[0m\u001b[0mmethod_options\u001b[0m\u001b[0;34m,\u001b[0m\u001b[0;34m\u001b[0m\u001b[0;34m\u001b[0m\u001b[0m\n\u001b[0;32m--> 270\u001b[0;31m                                       callback=callback)\n\u001b[0m\u001b[1;32m    271\u001b[0m \u001b[0;34m\u001b[0m\u001b[0m\n\u001b[1;32m    272\u001b[0m         \u001b[0;31m# failsafe since callback is not implemented everywhere\u001b[0m\u001b[0;34m\u001b[0m\u001b[0;34m\u001b[0m\u001b[0;34m\u001b[0m\u001b[0m\n",
      "\u001b[0;32m/usr/local/miniconda3/lib/python3.7/site-packages/scipy/optimize/_minimize.py\u001b[0m in \u001b[0;36mminimize\u001b[0;34m(fun, x0, args, method, jac, hess, hessp, bounds, constraints, tol, callback, options)\u001b[0m\n\u001b[1;32m    621\u001b[0m                              **options)\n\u001b[1;32m    622\u001b[0m     \u001b[0;32melif\u001b[0m \u001b[0mmeth\u001b[0m \u001b[0;34m==\u001b[0m \u001b[0;34m'cobyla'\u001b[0m\u001b[0;34m:\u001b[0m\u001b[0;34m\u001b[0m\u001b[0;34m\u001b[0m\u001b[0m\n\u001b[0;32m--> 623\u001b[0;31m         \u001b[0;32mreturn\u001b[0m \u001b[0m_minimize_cobyla\u001b[0m\u001b[0;34m(\u001b[0m\u001b[0mfun\u001b[0m\u001b[0;34m,\u001b[0m \u001b[0mx0\u001b[0m\u001b[0;34m,\u001b[0m \u001b[0margs\u001b[0m\u001b[0;34m,\u001b[0m \u001b[0mconstraints\u001b[0m\u001b[0;34m,\u001b[0m \u001b[0;34m**\u001b[0m\u001b[0moptions\u001b[0m\u001b[0;34m)\u001b[0m\u001b[0;34m\u001b[0m\u001b[0;34m\u001b[0m\u001b[0m\n\u001b[0m\u001b[1;32m    624\u001b[0m     \u001b[0;32melif\u001b[0m \u001b[0mmeth\u001b[0m \u001b[0;34m==\u001b[0m \u001b[0;34m'slsqp'\u001b[0m\u001b[0;34m:\u001b[0m\u001b[0;34m\u001b[0m\u001b[0;34m\u001b[0m\u001b[0m\n\u001b[1;32m    625\u001b[0m         return _minimize_slsqp(fun, x0, args, jac, bounds,\n",
      "\u001b[0;32m/usr/local/miniconda3/lib/python3.7/site-packages/scipy/optimize/cobyla.py\u001b[0m in \u001b[0;36mwrapper\u001b[0;34m(*args, **kwargs)\u001b[0m\n\u001b[1;32m     32\u001b[0m     \u001b[0;32mdef\u001b[0m \u001b[0mwrapper\u001b[0m\u001b[0;34m(\u001b[0m\u001b[0;34m*\u001b[0m\u001b[0margs\u001b[0m\u001b[0;34m,\u001b[0m \u001b[0;34m**\u001b[0m\u001b[0mkwargs\u001b[0m\u001b[0;34m)\u001b[0m\u001b[0;34m:\u001b[0m\u001b[0;34m\u001b[0m\u001b[0;34m\u001b[0m\u001b[0m\n\u001b[1;32m     33\u001b[0m         \u001b[0;32mwith\u001b[0m \u001b[0m_module_lock\u001b[0m\u001b[0;34m:\u001b[0m\u001b[0;34m\u001b[0m\u001b[0;34m\u001b[0m\u001b[0m\n\u001b[0;32m---> 34\u001b[0;31m             \u001b[0;32mreturn\u001b[0m \u001b[0mfunc\u001b[0m\u001b[0;34m(\u001b[0m\u001b[0;34m*\u001b[0m\u001b[0margs\u001b[0m\u001b[0;34m,\u001b[0m \u001b[0;34m**\u001b[0m\u001b[0mkwargs\u001b[0m\u001b[0;34m)\u001b[0m\u001b[0;34m\u001b[0m\u001b[0;34m\u001b[0m\u001b[0m\n\u001b[0m\u001b[1;32m     35\u001b[0m     \u001b[0;32mreturn\u001b[0m \u001b[0mwrapper\u001b[0m\u001b[0;34m\u001b[0m\u001b[0;34m\u001b[0m\u001b[0m\n\u001b[1;32m     36\u001b[0m \u001b[0;34m\u001b[0m\u001b[0m\n",
      "\u001b[0;32m/usr/local/miniconda3/lib/python3.7/site-packages/scipy/optimize/cobyla.py\u001b[0m in \u001b[0;36m_minimize_cobyla\u001b[0;34m(fun, x0, args, constraints, rhobeg, tol, maxiter, disp, catol, **unknown_options)\u001b[0m\n\u001b[1;32m    260\u001b[0m     xopt, info = _cobyla.minimize(calcfc, m=m, x=np.copy(x0), rhobeg=rhobeg,\n\u001b[1;32m    261\u001b[0m                                   \u001b[0mrhoend\u001b[0m\u001b[0;34m=\u001b[0m\u001b[0mrhoend\u001b[0m\u001b[0;34m,\u001b[0m \u001b[0miprint\u001b[0m\u001b[0;34m=\u001b[0m\u001b[0miprint\u001b[0m\u001b[0;34m,\u001b[0m \u001b[0mmaxfun\u001b[0m\u001b[0;34m=\u001b[0m\u001b[0mmaxfun\u001b[0m\u001b[0;34m,\u001b[0m\u001b[0;34m\u001b[0m\u001b[0;34m\u001b[0m\u001b[0m\n\u001b[0;32m--> 262\u001b[0;31m                                   dinfo=info)\n\u001b[0m\u001b[1;32m    263\u001b[0m \u001b[0;34m\u001b[0m\u001b[0m\n\u001b[1;32m    264\u001b[0m     \u001b[0;32mif\u001b[0m \u001b[0minfo\u001b[0m\u001b[0;34m[\u001b[0m\u001b[0;36m3\u001b[0m\u001b[0;34m]\u001b[0m \u001b[0;34m>\u001b[0m \u001b[0mcatol\u001b[0m\u001b[0;34m:\u001b[0m\u001b[0;34m\u001b[0m\u001b[0;34m\u001b[0m\u001b[0m\n",
      "\u001b[0;32m/usr/local/miniconda3/lib/python3.7/site-packages/scipy/optimize/cobyla.py\u001b[0m in \u001b[0;36mcalcfc\u001b[0;34m(x, con)\u001b[0m\n\u001b[1;32m    250\u001b[0m \u001b[0;34m\u001b[0m\u001b[0m\n\u001b[1;32m    251\u001b[0m     \u001b[0;32mdef\u001b[0m \u001b[0mcalcfc\u001b[0m\u001b[0;34m(\u001b[0m\u001b[0mx\u001b[0m\u001b[0;34m,\u001b[0m \u001b[0mcon\u001b[0m\u001b[0;34m)\u001b[0m\u001b[0;34m:\u001b[0m\u001b[0;34m\u001b[0m\u001b[0;34m\u001b[0m\u001b[0m\n\u001b[0;32m--> 252\u001b[0;31m         \u001b[0mf\u001b[0m \u001b[0;34m=\u001b[0m \u001b[0mfun\u001b[0m\u001b[0;34m(\u001b[0m\u001b[0mx\u001b[0m\u001b[0;34m,\u001b[0m \u001b[0;34m*\u001b[0m\u001b[0margs\u001b[0m\u001b[0;34m)\u001b[0m\u001b[0;34m\u001b[0m\u001b[0;34m\u001b[0m\u001b[0m\n\u001b[0m\u001b[1;32m    253\u001b[0m         \u001b[0mi\u001b[0m \u001b[0;34m=\u001b[0m \u001b[0;36m0\u001b[0m\u001b[0;34m\u001b[0m\u001b[0;34m\u001b[0m\u001b[0m\n\u001b[1;32m    254\u001b[0m         \u001b[0;32mfor\u001b[0m \u001b[0msize\u001b[0m\u001b[0;34m,\u001b[0m \u001b[0mc\u001b[0m \u001b[0;32min\u001b[0m \u001b[0mizip\u001b[0m\u001b[0;34m(\u001b[0m\u001b[0mcons_lengths\u001b[0m\u001b[0;34m,\u001b[0m \u001b[0mconstraints\u001b[0m\u001b[0;34m)\u001b[0m\u001b[0;34m:\u001b[0m\u001b[0;34m\u001b[0m\u001b[0;34m\u001b[0m\u001b[0m\n",
      "\u001b[0;32m/usr/local/miniconda3/lib//python3.7/site-packages/tequila/optimizers/_containers.py\u001b[0m in \u001b[0;36m__call__\u001b[0;34m(self, p, *args, **kwargs)\u001b[0m\n\u001b[1;32m     69\u001b[0m             \u001b[0mangles\u001b[0m \u001b[0;34m=\u001b[0m \u001b[0;34m{\u001b[0m\u001b[0;34m**\u001b[0m\u001b[0mangles\u001b[0m\u001b[0;34m,\u001b[0m \u001b[0;34m**\u001b[0m\u001b[0mself\u001b[0m\u001b[0;34m.\u001b[0m\u001b[0mpassive_angles\u001b[0m\u001b[0;34m}\u001b[0m\u001b[0;34m\u001b[0m\u001b[0;34m\u001b[0m\u001b[0m\n\u001b[1;32m     70\u001b[0m         \u001b[0mvars\u001b[0m \u001b[0;34m=\u001b[0m \u001b[0mformat_variable_dictionary\u001b[0m\u001b[0;34m(\u001b[0m\u001b[0mangles\u001b[0m\u001b[0;34m)\u001b[0m\u001b[0;34m\u001b[0m\u001b[0;34m\u001b[0m\u001b[0m\n\u001b[0;32m---> 71\u001b[0;31m         \u001b[0mE\u001b[0m \u001b[0;34m=\u001b[0m \u001b[0mself\u001b[0m\u001b[0;34m.\u001b[0m\u001b[0mobjective\u001b[0m\u001b[0;34m(\u001b[0m\u001b[0mvariables\u001b[0m\u001b[0;34m=\u001b[0m\u001b[0mvars\u001b[0m\u001b[0;34m,\u001b[0m \u001b[0msamples\u001b[0m\u001b[0;34m=\u001b[0m\u001b[0mself\u001b[0m\u001b[0;34m.\u001b[0m\u001b[0msamples\u001b[0m\u001b[0;34m)\u001b[0m\u001b[0;34m\u001b[0m\u001b[0;34m\u001b[0m\u001b[0m\n\u001b[0m\u001b[1;32m     72\u001b[0m         \u001b[0;32mif\u001b[0m \u001b[0mself\u001b[0m\u001b[0;34m.\u001b[0m\u001b[0mprint_level\u001b[0m \u001b[0;34m>\u001b[0m \u001b[0;36m2\u001b[0m\u001b[0;34m:\u001b[0m\u001b[0;34m\u001b[0m\u001b[0;34m\u001b[0m\u001b[0m\n\u001b[1;32m     73\u001b[0m             \u001b[0mprint\u001b[0m\u001b[0;34m(\u001b[0m\u001b[0;34m\"E={:+2.8f}\"\u001b[0m\u001b[0;34m.\u001b[0m\u001b[0mformat\u001b[0m\u001b[0;34m(\u001b[0m\u001b[0mE\u001b[0m\u001b[0;34m)\u001b[0m\u001b[0;34m,\u001b[0m \u001b[0;34m\" angles=\"\u001b[0m\u001b[0;34m,\u001b[0m \u001b[0mangles\u001b[0m\u001b[0;34m,\u001b[0m \u001b[0;34m\" samples=\"\u001b[0m\u001b[0;34m,\u001b[0m \u001b[0mself\u001b[0m\u001b[0;34m.\u001b[0m\u001b[0msamples\u001b[0m\u001b[0;34m)\u001b[0m\u001b[0;34m\u001b[0m\u001b[0;34m\u001b[0m\u001b[0m\n",
      "\u001b[0;32m/usr/local/miniconda3/lib//python3.7/site-packages/tequila/objective/objective.py\u001b[0m in \u001b[0;36m__call__\u001b[0;34m(self, variables, *args, **kwargs)\u001b[0m\n\u001b[1;32m    580\u001b[0m         \u001b[0;32mfor\u001b[0m \u001b[0mE\u001b[0m \u001b[0;32min\u001b[0m \u001b[0mself\u001b[0m\u001b[0;34m.\u001b[0m\u001b[0margs\u001b[0m\u001b[0;34m:\u001b[0m\u001b[0;34m\u001b[0m\u001b[0;34m\u001b[0m\u001b[0m\n\u001b[1;32m    581\u001b[0m             \u001b[0;32mif\u001b[0m \u001b[0mE\u001b[0m \u001b[0;32mnot\u001b[0m \u001b[0;32min\u001b[0m \u001b[0mevaluated\u001b[0m\u001b[0;34m:\u001b[0m  \u001b[0;31m#\u001b[0m\u001b[0;34m\u001b[0m\u001b[0;34m\u001b[0m\u001b[0m\n\u001b[0;32m--> 582\u001b[0;31m                 \u001b[0mexpval_result\u001b[0m \u001b[0;34m=\u001b[0m \u001b[0mE\u001b[0m\u001b[0;34m(\u001b[0m\u001b[0mvariables\u001b[0m\u001b[0;34m=\u001b[0m\u001b[0mvariables\u001b[0m\u001b[0;34m,\u001b[0m \u001b[0;34m*\u001b[0m\u001b[0margs\u001b[0m\u001b[0;34m,\u001b[0m \u001b[0;34m**\u001b[0m\u001b[0mkwargs\u001b[0m\u001b[0;34m)\u001b[0m\u001b[0;34m\u001b[0m\u001b[0;34m\u001b[0m\u001b[0m\n\u001b[0m\u001b[1;32m    583\u001b[0m                 \u001b[0mevaluated\u001b[0m\u001b[0;34m[\u001b[0m\u001b[0mE\u001b[0m\u001b[0;34m]\u001b[0m \u001b[0;34m=\u001b[0m \u001b[0mexpval_result\u001b[0m\u001b[0;34m\u001b[0m\u001b[0;34m\u001b[0m\u001b[0m\n\u001b[1;32m    584\u001b[0m             \u001b[0;32melse\u001b[0m\u001b[0;34m:\u001b[0m\u001b[0;34m\u001b[0m\u001b[0;34m\u001b[0m\u001b[0m\n",
      "\u001b[0;32m/usr/local/miniconda3/lib//python3.7/site-packages/tequila/simulators/simulator_base.py\u001b[0m in \u001b[0;36m__call__\u001b[0;34m(self, variables, samples, *args, **kwargs)\u001b[0m\n\u001b[1;32m    774\u001b[0m             \u001b[0mdata\u001b[0m \u001b[0;34m=\u001b[0m \u001b[0mself\u001b[0m\u001b[0;34m.\u001b[0m\u001b[0msimulate\u001b[0m\u001b[0;34m(\u001b[0m\u001b[0mvariables\u001b[0m\u001b[0;34m=\u001b[0m\u001b[0mvariables\u001b[0m\u001b[0;34m,\u001b[0m \u001b[0;34m*\u001b[0m\u001b[0margs\u001b[0m\u001b[0;34m,\u001b[0m \u001b[0;34m**\u001b[0m\u001b[0mkwargs\u001b[0m\u001b[0;34m)\u001b[0m\u001b[0;34m\u001b[0m\u001b[0;34m\u001b[0m\u001b[0m\n\u001b[1;32m    775\u001b[0m         \u001b[0;32melse\u001b[0m\u001b[0;34m:\u001b[0m\u001b[0;34m\u001b[0m\u001b[0;34m\u001b[0m\u001b[0m\n\u001b[0;32m--> 776\u001b[0;31m             \u001b[0mdata\u001b[0m \u001b[0;34m=\u001b[0m \u001b[0mself\u001b[0m\u001b[0;34m.\u001b[0m\u001b[0msample\u001b[0m\u001b[0;34m(\u001b[0m\u001b[0mvariables\u001b[0m\u001b[0;34m=\u001b[0m\u001b[0mvariables\u001b[0m\u001b[0;34m,\u001b[0m \u001b[0msamples\u001b[0m\u001b[0;34m=\u001b[0m\u001b[0msamples\u001b[0m\u001b[0;34m,\u001b[0m \u001b[0;34m*\u001b[0m\u001b[0margs\u001b[0m\u001b[0;34m,\u001b[0m \u001b[0;34m**\u001b[0m\u001b[0mkwargs\u001b[0m\u001b[0;34m)\u001b[0m\u001b[0;34m\u001b[0m\u001b[0;34m\u001b[0m\u001b[0m\n\u001b[0m\u001b[1;32m    777\u001b[0m \u001b[0;34m\u001b[0m\u001b[0m\n\u001b[1;32m    778\u001b[0m         \u001b[0;32mif\u001b[0m \u001b[0mself\u001b[0m\u001b[0;34m.\u001b[0m\u001b[0m_shape\u001b[0m \u001b[0;32mis\u001b[0m \u001b[0;32mNone\u001b[0m \u001b[0;32mand\u001b[0m \u001b[0mself\u001b[0m\u001b[0;34m.\u001b[0m\u001b[0m_contraction\u001b[0m \u001b[0;32mis\u001b[0m \u001b[0;32mNone\u001b[0m\u001b[0;34m:\u001b[0m\u001b[0;34m\u001b[0m\u001b[0;34m\u001b[0m\u001b[0m\n",
      "\u001b[0;32m/usr/local/miniconda3/lib//python3.7/site-packages/tequila/simulators/simulator_base.py\u001b[0m in \u001b[0;36msample\u001b[0;34m(self, variables, samples, *args, **kwargs)\u001b[0m\n\u001b[1;32m    862\u001b[0m             \u001b[0;32melif\u001b[0m \u001b[0mH\u001b[0m\u001b[0;34m.\u001b[0m\u001b[0mis_all_z\u001b[0m\u001b[0;34m(\u001b[0m\u001b[0;34m)\u001b[0m\u001b[0;34m:\u001b[0m\u001b[0;34m\u001b[0m\u001b[0;34m\u001b[0m\u001b[0m\n\u001b[1;32m    863\u001b[0m                 E = self.U.sample_all_z_hamiltonian(samples=samples, hamiltonian=H, variables=variables, *args,\n\u001b[0;32m--> 864\u001b[0;31m                                                     **kwargs)\n\u001b[0m\u001b[1;32m    865\u001b[0m             \u001b[0;32melse\u001b[0m\u001b[0;34m:\u001b[0m\u001b[0;34m\u001b[0m\u001b[0;34m\u001b[0m\u001b[0m\n\u001b[1;32m    866\u001b[0m                 \u001b[0;32mfor\u001b[0m \u001b[0mps\u001b[0m \u001b[0;32min\u001b[0m \u001b[0mH\u001b[0m\u001b[0;34m.\u001b[0m\u001b[0mpaulistrings\u001b[0m\u001b[0;34m:\u001b[0m\u001b[0;34m\u001b[0m\u001b[0;34m\u001b[0m\u001b[0m\n",
      "\u001b[0;32m/usr/local/miniconda3/lib//python3.7/site-packages/tequila/simulators/simulator_base.py\u001b[0m in \u001b[0;36msample_all_z_hamiltonian\u001b[0;34m(self, samples, hamiltonian, variables, *args, **kwargs)\u001b[0m\n\u001b[1;32m    428\u001b[0m \u001b[0;34m\u001b[0m\u001b[0m\n\u001b[1;32m    429\u001b[0m         \u001b[0;31m# run simulators\u001b[0m\u001b[0;34m\u001b[0m\u001b[0;34m\u001b[0m\u001b[0;34m\u001b[0m\u001b[0m\n\u001b[0;32m--> 430\u001b[0;31m         \u001b[0mcounts\u001b[0m \u001b[0;34m=\u001b[0m \u001b[0mself\u001b[0m\u001b[0;34m.\u001b[0m\u001b[0msample\u001b[0m\u001b[0;34m(\u001b[0m\u001b[0msamples\u001b[0m\u001b[0;34m=\u001b[0m\u001b[0msamples\u001b[0m\u001b[0;34m,\u001b[0m \u001b[0mread_out_qubits\u001b[0m\u001b[0;34m=\u001b[0m\u001b[0mabstract_qubits_H\u001b[0m\u001b[0;34m,\u001b[0m \u001b[0mvariables\u001b[0m\u001b[0;34m=\u001b[0m\u001b[0mvariables\u001b[0m\u001b[0;34m,\u001b[0m \u001b[0;34m*\u001b[0m\u001b[0margs\u001b[0m\u001b[0;34m,\u001b[0m \u001b[0;34m**\u001b[0m\u001b[0mkwargs\u001b[0m\u001b[0;34m)\u001b[0m\u001b[0;34m\u001b[0m\u001b[0;34m\u001b[0m\u001b[0m\n\u001b[0m\u001b[1;32m    431\u001b[0m         \u001b[0mread_out_map\u001b[0m \u001b[0;34m=\u001b[0m \u001b[0;34m{\u001b[0m\u001b[0mq\u001b[0m\u001b[0;34m:\u001b[0m \u001b[0mi\u001b[0m \u001b[0;32mfor\u001b[0m \u001b[0mi\u001b[0m\u001b[0;34m,\u001b[0m \u001b[0mq\u001b[0m \u001b[0;32min\u001b[0m \u001b[0menumerate\u001b[0m\u001b[0;34m(\u001b[0m\u001b[0mabstract_qubits_H\u001b[0m\u001b[0;34m)\u001b[0m\u001b[0;34m}\u001b[0m\u001b[0;34m\u001b[0m\u001b[0;34m\u001b[0m\u001b[0m\n\u001b[1;32m    432\u001b[0m \u001b[0;34m\u001b[0m\u001b[0m\n",
      "\u001b[0;32m/usr/local/miniconda3/lib//python3.7/site-packages/tequila/simulators/simulator_base.py\u001b[0m in \u001b[0;36msample\u001b[0;34m(self, variables, samples, read_out_qubits, circuit, *args, **kwargs)\u001b[0m\n\u001b[1;32m    399\u001b[0m         \u001b[0;32melse\u001b[0m\u001b[0;34m:\u001b[0m\u001b[0;34m\u001b[0m\u001b[0;34m\u001b[0m\u001b[0m\n\u001b[1;32m    400\u001b[0m             \u001b[0mcircuit\u001b[0m \u001b[0;34m=\u001b[0m \u001b[0mself\u001b[0m\u001b[0;34m.\u001b[0m\u001b[0madd_measurement\u001b[0m\u001b[0;34m(\u001b[0m\u001b[0mcircuit\u001b[0m\u001b[0;34m=\u001b[0m\u001b[0mcircuit\u001b[0m\u001b[0;34m,\u001b[0m \u001b[0mtarget_qubits\u001b[0m\u001b[0;34m=\u001b[0m\u001b[0mread_out_qubits\u001b[0m\u001b[0;34m)\u001b[0m\u001b[0;34m\u001b[0m\u001b[0;34m\u001b[0m\u001b[0m\n\u001b[0;32m--> 401\u001b[0;31m         \u001b[0;32mreturn\u001b[0m \u001b[0mself\u001b[0m\u001b[0;34m.\u001b[0m\u001b[0mdo_sample\u001b[0m\u001b[0;34m(\u001b[0m\u001b[0msamples\u001b[0m\u001b[0;34m=\u001b[0m\u001b[0msamples\u001b[0m\u001b[0;34m,\u001b[0m \u001b[0mcircuit\u001b[0m\u001b[0;34m=\u001b[0m\u001b[0mcircuit\u001b[0m\u001b[0;34m,\u001b[0m \u001b[0mread_out_qubits\u001b[0m\u001b[0;34m=\u001b[0m\u001b[0mread_out_qubits\u001b[0m\u001b[0;34m,\u001b[0m \u001b[0;34m*\u001b[0m\u001b[0margs\u001b[0m\u001b[0;34m,\u001b[0m \u001b[0;34m**\u001b[0m\u001b[0mkwargs\u001b[0m\u001b[0;34m)\u001b[0m\u001b[0;34m\u001b[0m\u001b[0;34m\u001b[0m\u001b[0m\n\u001b[0m\u001b[1;32m    402\u001b[0m \u001b[0;34m\u001b[0m\u001b[0m\n\u001b[1;32m    403\u001b[0m     \u001b[0;32mdef\u001b[0m \u001b[0msample_all_z_hamiltonian\u001b[0m\u001b[0;34m(\u001b[0m\u001b[0mself\u001b[0m\u001b[0;34m,\u001b[0m \u001b[0msamples\u001b[0m\u001b[0;34m:\u001b[0m \u001b[0mint\u001b[0m\u001b[0;34m,\u001b[0m \u001b[0mhamiltonian\u001b[0m\u001b[0;34m,\u001b[0m \u001b[0mvariables\u001b[0m\u001b[0;34m,\u001b[0m \u001b[0;34m*\u001b[0m\u001b[0margs\u001b[0m\u001b[0;34m,\u001b[0m \u001b[0;34m**\u001b[0m\u001b[0mkwargs\u001b[0m\u001b[0;34m)\u001b[0m\u001b[0;34m:\u001b[0m\u001b[0;34m\u001b[0m\u001b[0;34m\u001b[0m\u001b[0m\n",
      "\u001b[0;32m/usr/local/miniconda3/lib//python3.7/site-packages/tequila/simulators/simulator_qiskit.py\u001b[0m in \u001b[0;36mdo_sample\u001b[0;34m(self, circuit, samples, read_out_qubits, *args, **kwargs)\u001b[0m\n\u001b[1;32m    337\u001b[0m \u001b[0;34m\u001b[0m\u001b[0m\n\u001b[1;32m    338\u001b[0m                 \u001b[0mjob\u001b[0m\u001b[0;34m=\u001b[0m\u001b[0mqiskit_backend\u001b[0m\u001b[0;34m.\u001b[0m\u001b[0mrun\u001b[0m\u001b[0;34m(\u001b[0m\u001b[0mcircuit\u001b[0m\u001b[0;34m,\u001b[0m \u001b[0mshots\u001b[0m\u001b[0;34m=\u001b[0m\u001b[0msamples\u001b[0m\u001b[0;34m)\u001b[0m\u001b[0;34m\u001b[0m\u001b[0;34m\u001b[0m\u001b[0m\n\u001b[0;32m--> 339\u001b[0;31m                 \u001b[0;32mreturn\u001b[0m \u001b[0mself\u001b[0m\u001b[0;34m.\u001b[0m\u001b[0mconvert_measurements\u001b[0m\u001b[0;34m(\u001b[0m\u001b[0mjob\u001b[0m\u001b[0;34m,\u001b[0m\u001b[0mtarget_qubits\u001b[0m\u001b[0;34m=\u001b[0m\u001b[0mread_out_qubits\u001b[0m\u001b[0;34m)\u001b[0m\u001b[0;34m\u001b[0m\u001b[0;34m\u001b[0m\u001b[0m\n\u001b[0m\u001b[1;32m    340\u001b[0m             \u001b[0;32melse\u001b[0m\u001b[0;34m:\u001b[0m\u001b[0;34m\u001b[0m\u001b[0;34m\u001b[0m\u001b[0m\n\u001b[1;32m    341\u001b[0m                 \u001b[0;32mif\u001b[0m \u001b[0mself\u001b[0m\u001b[0;34m.\u001b[0m\u001b[0mnoise_model\u001b[0m \u001b[0;32mis\u001b[0m \u001b[0;32mnot\u001b[0m \u001b[0;32mNone\u001b[0m\u001b[0;34m:\u001b[0m\u001b[0;34m\u001b[0m\u001b[0;34m\u001b[0m\u001b[0m\n",
      "\u001b[0;32m/usr/local/miniconda3/lib//python3.7/site-packages/tequila/simulators/simulator_qiskit.py\u001b[0m in \u001b[0;36mconvert_measurements\u001b[0;34m(self, backend_result, target_qubits)\u001b[0m\n\u001b[1;32m    366\u001b[0m             \u001b[0mmeasurements\u001b[0m \u001b[0mconverted\u001b[0m \u001b[0minto\u001b[0m \u001b[0mwave\u001b[0m \u001b[0mfunction\u001b[0m \u001b[0mform\u001b[0m\u001b[0;34m.\u001b[0m\u001b[0;34m\u001b[0m\u001b[0;34m\u001b[0m\u001b[0m\n\u001b[1;32m    367\u001b[0m         \"\"\"\n\u001b[0;32m--> 368\u001b[0;31m         \u001b[0mqiskit_counts\u001b[0m \u001b[0;34m=\u001b[0m \u001b[0mbackend_result\u001b[0m\u001b[0;34m.\u001b[0m\u001b[0mresult\u001b[0m\u001b[0;34m(\u001b[0m\u001b[0;34m)\u001b[0m\u001b[0;34m.\u001b[0m\u001b[0mget_counts\u001b[0m\u001b[0;34m(\u001b[0m\u001b[0;34m)\u001b[0m\u001b[0;34m\u001b[0m\u001b[0;34m\u001b[0m\u001b[0m\n\u001b[0m\u001b[1;32m    369\u001b[0m         \u001b[0mresult\u001b[0m \u001b[0;34m=\u001b[0m \u001b[0mQubitWaveFunction\u001b[0m\u001b[0;34m(\u001b[0m\u001b[0;34m)\u001b[0m\u001b[0;34m\u001b[0m\u001b[0;34m\u001b[0m\u001b[0m\n\u001b[1;32m    370\u001b[0m         \u001b[0;31m# todo there are faster ways\u001b[0m\u001b[0;34m\u001b[0m\u001b[0;34m\u001b[0m\u001b[0;34m\u001b[0m\u001b[0m\n",
      "\u001b[0;32m/usr/local/miniconda3/lib/python3.7/site-packages/qiskit_aer/jobs/utils.py\u001b[0m in \u001b[0;36m_wrapper\u001b[0;34m(self, *args, **kwargs)\u001b[0m\n\u001b[1;32m     39\u001b[0m         \u001b[0;32mif\u001b[0m \u001b[0mself\u001b[0m\u001b[0;34m.\u001b[0m\u001b[0m_future\u001b[0m \u001b[0;32mis\u001b[0m \u001b[0;32mNone\u001b[0m\u001b[0;34m:\u001b[0m\u001b[0;34m\u001b[0m\u001b[0;34m\u001b[0m\u001b[0m\n\u001b[1;32m     40\u001b[0m             \u001b[0;32mraise\u001b[0m \u001b[0mJobError\u001b[0m\u001b[0;34m(\u001b[0m\u001b[0;34m\"Job not submitted yet!. You have to .submit() first!\"\u001b[0m\u001b[0;34m)\u001b[0m\u001b[0;34m\u001b[0m\u001b[0;34m\u001b[0m\u001b[0m\n\u001b[0;32m---> 41\u001b[0;31m         \u001b[0;32mreturn\u001b[0m \u001b[0mfunc\u001b[0m\u001b[0;34m(\u001b[0m\u001b[0mself\u001b[0m\u001b[0;34m,\u001b[0m \u001b[0;34m*\u001b[0m\u001b[0margs\u001b[0m\u001b[0;34m,\u001b[0m \u001b[0;34m**\u001b[0m\u001b[0mkwargs\u001b[0m\u001b[0;34m)\u001b[0m\u001b[0;34m\u001b[0m\u001b[0;34m\u001b[0m\u001b[0m\n\u001b[0m\u001b[1;32m     42\u001b[0m     \u001b[0;32mreturn\u001b[0m \u001b[0m_wrapper\u001b[0m\u001b[0;34m\u001b[0m\u001b[0;34m\u001b[0m\u001b[0m\n\u001b[1;32m     43\u001b[0m \u001b[0;34m\u001b[0m\u001b[0m\n",
      "\u001b[0;32m/usr/local/miniconda3/lib/python3.7/site-packages/qiskit_aer/jobs/aerjob.py\u001b[0m in \u001b[0;36mresult\u001b[0;34m(self, timeout)\u001b[0m\n\u001b[1;32m    104\u001b[0m             \u001b[0mconcurrent\u001b[0m\u001b[0;34m.\u001b[0m\u001b[0mfutures\u001b[0m\u001b[0;34m.\u001b[0m\u001b[0mCancelledError\u001b[0m\u001b[0;34m:\u001b[0m \u001b[0;32mif\u001b[0m \u001b[0mjob\u001b[0m \u001b[0mcancelled\u001b[0m \u001b[0mbefore\u001b[0m \u001b[0mcompleted\u001b[0m\u001b[0;34m.\u001b[0m\u001b[0;34m\u001b[0m\u001b[0;34m\u001b[0m\u001b[0m\n\u001b[1;32m    105\u001b[0m         \"\"\"\n\u001b[0;32m--> 106\u001b[0;31m         \u001b[0;32mreturn\u001b[0m \u001b[0mself\u001b[0m\u001b[0;34m.\u001b[0m\u001b[0m_future\u001b[0m\u001b[0;34m.\u001b[0m\u001b[0mresult\u001b[0m\u001b[0;34m(\u001b[0m\u001b[0mtimeout\u001b[0m\u001b[0;34m=\u001b[0m\u001b[0mtimeout\u001b[0m\u001b[0;34m)\u001b[0m\u001b[0;34m\u001b[0m\u001b[0;34m\u001b[0m\u001b[0m\n\u001b[0m\u001b[1;32m    107\u001b[0m \u001b[0;34m\u001b[0m\u001b[0m\n\u001b[1;32m    108\u001b[0m     \u001b[0;34m@\u001b[0m\u001b[0mrequires_submit\u001b[0m\u001b[0;34m\u001b[0m\u001b[0;34m\u001b[0m\u001b[0m\n",
      "\u001b[0;32m/usr/local/miniconda3/lib/python3.7/concurrent/futures/_base.py\u001b[0m in \u001b[0;36mresult\u001b[0;34m(self, timeout)\u001b[0m\n\u001b[1;32m    428\u001b[0m                 \u001b[0;32mreturn\u001b[0m \u001b[0mself\u001b[0m\u001b[0;34m.\u001b[0m\u001b[0m__get_result\u001b[0m\u001b[0;34m(\u001b[0m\u001b[0;34m)\u001b[0m\u001b[0;34m\u001b[0m\u001b[0;34m\u001b[0m\u001b[0m\n\u001b[1;32m    429\u001b[0m \u001b[0;34m\u001b[0m\u001b[0m\n\u001b[0;32m--> 430\u001b[0;31m             \u001b[0mself\u001b[0m\u001b[0;34m.\u001b[0m\u001b[0m_condition\u001b[0m\u001b[0;34m.\u001b[0m\u001b[0mwait\u001b[0m\u001b[0;34m(\u001b[0m\u001b[0mtimeout\u001b[0m\u001b[0;34m)\u001b[0m\u001b[0;34m\u001b[0m\u001b[0;34m\u001b[0m\u001b[0m\n\u001b[0m\u001b[1;32m    431\u001b[0m \u001b[0;34m\u001b[0m\u001b[0m\n\u001b[1;32m    432\u001b[0m             \u001b[0;32mif\u001b[0m \u001b[0mself\u001b[0m\u001b[0;34m.\u001b[0m\u001b[0m_state\u001b[0m \u001b[0;32min\u001b[0m \u001b[0;34m[\u001b[0m\u001b[0mCANCELLED\u001b[0m\u001b[0;34m,\u001b[0m \u001b[0mCANCELLED_AND_NOTIFIED\u001b[0m\u001b[0;34m]\u001b[0m\u001b[0;34m:\u001b[0m\u001b[0;34m\u001b[0m\u001b[0;34m\u001b[0m\u001b[0m\n",
      "\u001b[0;32m/usr/local/miniconda3/lib/python3.7/threading.py\u001b[0m in \u001b[0;36mwait\u001b[0;34m(self, timeout)\u001b[0m\n\u001b[1;32m    294\u001b[0m         \u001b[0;32mtry\u001b[0m\u001b[0;34m:\u001b[0m    \u001b[0;31m# restore state no matter what (e.g., KeyboardInterrupt)\u001b[0m\u001b[0;34m\u001b[0m\u001b[0;34m\u001b[0m\u001b[0m\n\u001b[1;32m    295\u001b[0m             \u001b[0;32mif\u001b[0m \u001b[0mtimeout\u001b[0m \u001b[0;32mis\u001b[0m \u001b[0;32mNone\u001b[0m\u001b[0;34m:\u001b[0m\u001b[0;34m\u001b[0m\u001b[0;34m\u001b[0m\u001b[0m\n\u001b[0;32m--> 296\u001b[0;31m                 \u001b[0mwaiter\u001b[0m\u001b[0;34m.\u001b[0m\u001b[0macquire\u001b[0m\u001b[0;34m(\u001b[0m\u001b[0;34m)\u001b[0m\u001b[0;34m\u001b[0m\u001b[0;34m\u001b[0m\u001b[0m\n\u001b[0m\u001b[1;32m    297\u001b[0m                 \u001b[0mgotit\u001b[0m \u001b[0;34m=\u001b[0m \u001b[0;32mTrue\u001b[0m\u001b[0;34m\u001b[0m\u001b[0;34m\u001b[0m\u001b[0m\n\u001b[1;32m    298\u001b[0m             \u001b[0;32melse\u001b[0m\u001b[0;34m:\u001b[0m\u001b[0;34m\u001b[0m\u001b[0;34m\u001b[0m\u001b[0m\n",
      "\u001b[0;31mKeyboardInterrupt\u001b[0m: "
     ]
    }
   ],
   "source": [
    "# pUCCD_noisy_2 = []\n",
    "# real_lin = []\n",
    "pUCCD_noisy_2 = pUCCD_noisy\n",
    "real_lin = lin\n",
    "\n",
    "for r in lin:\n",
    "\n",
    "    print(\"-\"*20, f\"\\nr = {r}\\n\", \"-\"*20)\n",
    "\n",
    "    # pair doubles\n",
    "    print(\"UpCCD\")\n",
    "    # ansatz = qucca.CustomAnsatz(mol, pair_doubles=True)\n",
    "    res = qucca.solve_noisy_2(r)\n",
    "    pUCCD_noisy_2.append(res)\n",
    "    print(res)\n",
    "    real_lin.append(r)\n",
    "\n",
    "    with open(\"pUCCD_noisy_2_2.pkl\", \"wb\") as file:\n",
    "        pickle.dump(pUCCD_noisy_2, file)\n",
    "\n",
    "    with open(\"real_lin_2.pkl\", \"wb\") as file:\n",
    "        pickle.dump(real_lin, file)\n",
    "\n"
   ]
  },
  {
   "cell_type": "code",
   "execution_count": null,
   "metadata": {},
   "outputs": [],
   "source": [
    "# with open(\"noisy_CID.pkl\", \"rb\") as file:\n",
    "#     noisy_pUCCD = pickle.load(file)"
   ]
  },
  {
   "cell_type": "code",
   "execution_count": 47,
   "metadata": {},
   "outputs": [],
   "source": [
    "with open(\"pUCCD_noisy_2_2.pkl\", \"rb\") as file:\n",
    "    pUCCD_noisy_2 = pickle.load(file)\n",
    "\n",
    "with open(\"real_lin_2.pkl\", \"rb\") as file:\n",
    "    real_lin = pickle.load(file)"
   ]
  },
  {
   "cell_type": "code",
   "execution_count": 48,
   "metadata": {},
   "outputs": [
    {
     "data": {
      "text/plain": [
       "50"
      ]
     },
     "execution_count": 48,
     "metadata": {},
     "output_type": "execute_result"
    }
   ],
   "source": [
    "len(pUCCD_noisy_2)"
   ]
  },
  {
   "cell_type": "code",
   "execution_count": 41,
   "metadata": {},
   "outputs": [],
   "source": [
    "pUCCD_nois = [i.energy for i in pUCCD_noisy_2]"
   ]
  },
  {
   "cell_type": "code",
   "execution_count": 11,
   "metadata": {},
   "outputs": [
    {
     "ename": "NameError",
     "evalue": "name 'pUCCD_nois' is not defined",
     "output_type": "error",
     "traceback": [
      "\u001b[0;31m---------------------------------------------------------------------------\u001b[0m",
      "\u001b[0;31mNameError\u001b[0m                                 Traceback (most recent call last)",
      "\u001b[0;32m<ipython-input-11-cfc40a652da5>\u001b[0m in \u001b[0;36m<module>\u001b[0;34m\u001b[0m\n\u001b[1;32m      6\u001b[0m \u001b[0;34m\u001b[0m\u001b[0m\n\u001b[1;32m      7\u001b[0m \u001b[0;31m# plt.plot(lin, UCCS, label=\"UCCS ansatz\")\u001b[0m\u001b[0;34m\u001b[0m\u001b[0;34m\u001b[0m\u001b[0;34m\u001b[0m\u001b[0m\n\u001b[0;32m----> 8\u001b[0;31m \u001b[0mplt\u001b[0m\u001b[0;34m.\u001b[0m\u001b[0mplot\u001b[0m\u001b[0;34m(\u001b[0m\u001b[0mreal_lin\u001b[0m\u001b[0;34m,\u001b[0m \u001b[0mpUCCD_nois\u001b[0m\u001b[0;34m,\u001b[0m \u001b[0mlabel\u001b[0m\u001b[0;34m=\u001b[0m\u001b[0;34m\"noisy 1-UpGCCSD ansatz\"\u001b[0m\u001b[0;34m,\u001b[0m \u001b[0mlw\u001b[0m\u001b[0;34m=\u001b[0m\u001b[0;36m2\u001b[0m\u001b[0;34m)\u001b[0m\u001b[0;34m\u001b[0m\u001b[0;34m\u001b[0m\u001b[0m\n\u001b[0m\u001b[1;32m      9\u001b[0m \u001b[0;31m# plt.plot(lin, pUCCSD, label=\"pUCCSD ansatz\")\u001b[0m\u001b[0;34m\u001b[0m\u001b[0;34m\u001b[0m\u001b[0;34m\u001b[0m\u001b[0m\n\u001b[1;32m     10\u001b[0m \u001b[0;34m\u001b[0m\u001b[0m\n",
      "\u001b[0;31mNameError\u001b[0m: name 'pUCCD_nois' is not defined"
     ]
    },
    {
     "data": {
      "text/plain": [
       "<Figure size 1152x648 with 0 Axes>"
      ]
     },
     "metadata": {},
     "output_type": "display_data"
    }
   ],
   "source": [
    "import matplotlib.pyplot as plt\n",
    "# Set font size\n",
    "plt.rcParams['font.size'] = 27\n",
    "\n",
    "plt.figure(figsize=(16, 9))\n",
    "\n",
    "# plt.plot(lin, UCCS, label=\"UCCS ansatz\")\n",
    "plt.plot(real_lin, pUCCD_nois, label=\"noisy 1-UpGCCSD ansatz\", lw=2)\n",
    "# plt.plot(lin, pUCCSD, label=\"pUCCSD ansatz\")\n",
    "\n",
    "plt.plot(lin, fci, label=\"FCI\", ls=\"--\", lw=2)\n",
    "plt.plot(lin, hf, label=\"HF\", ls=\"--\", lw=2)\n",
    "# plt.plot(lin, cid, label=\"cid\", ls=\"-.\")\n",
    "\n",
    "plt.legend()\n",
    "\n",
    "# plt.title(\"Comparison of dissociation curves of H2\")\n",
    "plt.xlabel('bond length [Å]')\n",
    "plt.ylabel('E [Ha]')\n",
    "\n",
    "plt.savefig(\"QC_UCC_HH_noisy.pdf\")"
   ]
  },
  {
   "cell_type": "code",
   "execution_count": null,
   "metadata": {},
   "outputs": [],
   "source": []
  }
 ],
 "metadata": {
  "kernelspec": {
   "display_name": "base",
   "language": "python",
   "name": "python3"
  },
  "language_info": {
   "codemirror_mode": {
    "name": "ipython",
    "version": 3
   },
   "file_extension": ".py",
   "mimetype": "text/x-python",
   "name": "python",
   "nbconvert_exporter": "python",
   "pygments_lexer": "ipython3",
   "version": "3.7.9"
  },
  "orig_nbformat": 4
 },
 "nbformat": 4,
 "nbformat_minor": 2
}
