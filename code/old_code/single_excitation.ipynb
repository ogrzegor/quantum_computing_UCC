{
 "cells": [
  {
   "attachments": {},
   "cell_type": "markdown",
   "metadata": {},
   "source": [
    "# Single excitation"
   ]
  },
  {
   "attachments": {},
   "cell_type": "markdown",
   "metadata": {},
   "source": [
    "This notebook contains an example of a circuit performing a single excitation with respect to rotation angle θ"
   ]
  },
  {
   "cell_type": "code",
   "execution_count": 1,
   "metadata": {},
   "outputs": [],
   "source": [
    "from qiskit import QuantumCircuit, Aer, execute\n",
    "from qiskit.circuit import Parameter\n",
    "import numpy as np\n",
    "\n",
    "p = np.pi/2"
   ]
  },
  {
   "attachments": {},
   "cell_type": "markdown",
   "metadata": {},
   "source": [
    "defining the angle of rotation θ"
   ]
  },
  {
   "cell_type": "code",
   "execution_count": 2,
   "metadata": {},
   "outputs": [],
   "source": [
    "angle = Parameter('θ')"
   ]
  },
  {
   "attachments": {},
   "cell_type": "markdown",
   "metadata": {},
   "source": [
    "building the circuit"
   ]
  },
  {
   "cell_type": "code",
   "execution_count": 28,
   "metadata": {},
   "outputs": [
    {
     "data": {
      "image/png": "[encoded data removed]",
      "text/plain": [
       "<Figure size 808.852x144.48 with 1 Axes>"
      ]
     },
     "execution_count": 28,
     "metadata": {},
     "output_type": "execute_result"
    }
   ],
   "source": [
    "circuit = QuantumCircuit(2)\n",
    "\n",
    "initial_state = [0, 0, 1, 0] # initial state, [0, 0, 1, 0] -> the first qubit is 1, the second 0\n",
    "circuit.initialize(initial_state)\n",
    "\n",
    "circuit.rx(p, 0)        # x rotation\n",
    "circuit.h(1)            # hadamard gate\n",
    "circuit.cx(0,1)         # cnot ladder\n",
    "circuit.rz(angle, 1)    # z rotation\n",
    "circuit.cx(0,1)\n",
    "circuit.rx(-p, 0)\n",
    "circuit.h(1)\n",
    "\n",
    "circuit.h(0)\n",
    "circuit.rx(p, 1)\n",
    "circuit.cx(0,1)\n",
    "circuit.rz(-angle, 1)\n",
    "circuit.cx(0,1)\n",
    "circuit.h(0)\n",
    "circuit.rx(-p, 1)\n",
    "\n",
    "circuit.draw(output=(\"mpl\"))"
   ]
  },
  {
   "attachments": {},
   "cell_type": "markdown",
   "metadata": {},
   "source": [
    "simulating the circuit"
   ]
  },
  {
   "cell_type": "code",
   "execution_count": 33,
   "metadata": {},
   "outputs": [],
   "source": [
    "rotation = 30\n",
    "\n",
    "backend = Aer.get_backend('statevector_simulator')\n",
    "result = execute(circuit.bind_parameters({angle: rotation}), backend).result()\n",
    "statevector = result.get_statevector()\n",
    "counts = result.get_counts()"
   ]
  },
  {
   "attachments": {},
   "cell_type": "markdown",
   "metadata": {},
   "source": [
    "the statevector contains the probabilities for all states"
   ]
  },
  {
   "cell_type": "code",
   "execution_count": 34,
   "metadata": {},
   "outputs": [
    {
     "name": "stdout",
     "output_type": "stream",
     "text": [
      "Statevector([-7.85046229e-17-1.66533454e-16j,\n",
      "             -9.88031624e-01+1.71728863e-16j,\n",
      "              1.54251450e-01+7.85046229e-17j,\n",
      "              1.47196168e-17+1.66533454e-16j],\n",
      "            dims=(2, 2))\n"
     ]
    }
   ],
   "source": [
    "statevector"
   ]
  },
  {
   "attachments": {},
   "cell_type": "markdown",
   "metadata": {},
   "source": [
    "the counts hold the possibilities for each non-zero state"
   ]
  },
  {
   "cell_type": "code",
   "execution_count": 35,
   "metadata": {},
   "outputs": [
    {
     "data": {
      "text/plain": [
       "{'01': 0.976206490207578, '10': 0.023793509792422}"
      ]
     },
     "execution_count": 35,
     "metadata": {},
     "output_type": "execute_result"
    }
   ],
   "source": [
    "counts"
   ]
  },
  {
   "attachments": {},
   "cell_type": "markdown",
   "metadata": {},
   "source": [
    "Checking the sum of all counts, it should be equal to the number of electrons"
   ]
  },
  {
   "cell_type": "code",
   "execution_count": 36,
   "metadata": {},
   "outputs": [
    {
     "data": {
      "text/plain": [
       "1.0"
      ]
     },
     "execution_count": 36,
     "metadata": {},
     "output_type": "execute_result"
    }
   ],
   "source": [
    "sum(val for val in counts.values())"
   ]
  },
  {
   "attachments": {},
   "cell_type": "markdown",
   "metadata": {},
   "source": [
    "# Defining the molecule"
   ]
  },
  {
   "cell_type": "code",
   "execution_count": 96,
   "metadata": {},
   "outputs": [],
   "source": [
    "from qiskit_nature.second_q.drivers import PySCFDriver\n",
    "driver = PySCFDriver(atom=\"H 0 0 0; li 0 0 1.0\", basis=\"sto-3g\")\n",
    "mol = driver.run()"
   ]
  },
  {
   "cell_type": "code",
   "execution_count": 97,
   "metadata": {},
   "outputs": [
    {
     "data": {
      "text/plain": [
       "6"
      ]
     },
     "execution_count": 97,
     "metadata": {},
     "output_type": "execute_result"
    }
   ],
   "source": [
    "mol.num_spatial_orbitals"
   ]
  },
  {
   "cell_type": "code",
   "execution_count": 98,
   "metadata": {},
   "outputs": [
    {
     "data": {
      "text/plain": [
       "(2, 2)"
      ]
     },
     "execution_count": 98,
     "metadata": {},
     "output_type": "execute_result"
    }
   ],
   "source": [
    "mol.num_particles"
   ]
  },
  {
   "cell_type": "code",
   "execution_count": 99,
   "metadata": {},
   "outputs": [
    {
     "data": {
      "text/plain": [
       "array([1., 1., 0., 0., 0., 0.])"
      ]
     },
     "execution_count": 99,
     "metadata": {},
     "output_type": "execute_result"
    }
   ],
   "source": [
    "mol.orbital_occupations"
   ]
  },
  {
   "cell_type": "code",
   "execution_count": 100,
   "metadata": {},
   "outputs": [
    {
     "data": {
      "text/plain": [
       "12"
      ]
     },
     "execution_count": 100,
     "metadata": {},
     "output_type": "execute_result"
    }
   ],
   "source": [
    "mol.num_spin_orbitals"
   ]
  },
  {
   "cell_type": "code",
   "execution_count": 101,
   "metadata": {},
   "outputs": [
    {
     "data": {
      "text/plain": [
       "<qiskit_nature.second_q.hamiltonians.electronic_energy.ElectronicEnergy at 0x7f8e3a455190>"
      ]
     },
     "execution_count": 101,
     "metadata": {},
     "output_type": "execute_result"
    }
   ],
   "source": [
    "mol.hamiltonian"
   ]
  },
  {
   "attachments": {},
   "cell_type": "markdown",
   "metadata": {},
   "source": [
    "# Hartree-Fock initial state"
   ]
  },
  {
   "attachments": {},
   "cell_type": "markdown",
   "metadata": {},
   "source": [
    "importing the JW mapper"
   ]
  },
  {
   "cell_type": "code",
   "execution_count": 102,
   "metadata": {},
   "outputs": [],
   "source": [
    "from qiskit_nature.second_q.mappers import JordanWignerMapper\n",
    "mapper = JordanWignerMapper()"
   ]
  },
  {
   "cell_type": "code",
   "execution_count": 103,
   "metadata": {},
   "outputs": [
    {
     "name": "stdout",
     "output_type": "stream",
     "text": [
      "      ┌───┐\n",
      " q_0: ┤ X ├\n",
      "      ├───┤\n",
      " q_1: ┤ X ├\n",
      "      └───┘\n",
      " q_2: ─────\n",
      "           \n",
      " q_3: ─────\n",
      "           \n",
      " q_4: ─────\n",
      "           \n",
      " q_5: ─────\n",
      "      ┌───┐\n",
      " q_6: ┤ X ├\n",
      "      ├───┤\n",
      " q_7: ┤ X ├\n",
      "      └───┘\n",
      " q_8: ─────\n",
      "           \n",
      " q_9: ─────\n",
      "           \n",
      "q_10: ─────\n",
      "           \n",
      "q_11: ─────\n",
      "           \n"
     ]
    }
   ],
   "source": [
    "from qiskit_nature.second_q.circuit.library import HartreeFock\n",
    "\n",
    "initial_state=HartreeFock( mol.num_spatial_orbitals, mol.num_particles, mapper)\n",
    "print(initial_state)"
   ]
  },
  {
   "cell_type": "code",
   "execution_count": 66,
   "metadata": {},
   "outputs": [],
   "source": [
    "# # alternative initial_point setup\n",
    "# from qiskit_nature.second_q.algorithms.initial_points import HFInitialPoint\n",
    "# initial_point = HFInitialPoint()\n",
    "# print(initial_point)"
   ]
  },
  {
   "cell_type": "code",
   "execution_count": null,
   "metadata": {},
   "outputs": [],
   "source": []
  }
 ],
 "metadata": {
  "kernelspec": {
   "display_name": "base",
   "language": "python",
   "name": "python3"
  },
  "language_info": {
   "codemirror_mode": {
    "name": "ipython",
    "version": 3
   },
   "file_extension": ".py",
   "mimetype": "text/x-python",
   "name": "python",
   "nbconvert_exporter": "python",
   "pygments_lexer": "ipython3",
   "version": "3.7.9"
  },
  "orig_nbformat": 4
 },
 "nbformat": 4,
 "nbformat_minor": 2
}
