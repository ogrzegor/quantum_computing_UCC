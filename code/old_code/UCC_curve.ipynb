{
 "cells": [
  {
   "cell_type": "code",
   "execution_count": 1,
   "metadata": {},
   "outputs": [],
   "source": [
    "import quantum_UCC_ansatz as qucca\n",
    "import vqe_solver\n",
    "\n",
    "import numpy as np\n",
    "\n",
    "from qiskit_nature.second_q.drivers import PySCFDriver"
   ]
  },
  {
   "cell_type": "code",
   "execution_count": 2,
   "metadata": {},
   "outputs": [],
   "source": [
    "def calc_custom(r):\n",
    "    driver = PySCFDriver(atom=f\"H 0 0 0; Li 0 0 {r}\", spin=0, basis=\"sto-3g\")\n",
    "    mol = driver.run()\n",
    "\n",
    "    # initializing the circuit\n",
    "    ansatz = qucca.create_circuit(mol)\n",
    "\n",
    "    ansatz = qucca.add_reference_state(mol, ansatz)\n",
    "\n",
    "    # generating the excitations\n",
    "    excitations = qucca.generate_pCCD_excitations(mol)\n",
    "\n",
    "    for exc in excitations:\n",
    "        ansatz = qucca.add_excitation(ansatz, exc[0], exc[1])\n",
    "\n",
    "    return vqe_solver.solve(mol, ansatz)"
   ]
  },
  {
   "cell_type": "code",
   "execution_count": 3,
   "metadata": {},
   "outputs": [],
   "source": [
    "from qiskit_nature.second_q.mappers import JordanWignerMapper\n",
    "from qiskit_nature.second_q.circuit.library import UCCSD, HartreeFock\n",
    "\n",
    "def calc_qiskit(r):\n",
    "    driver = PySCFDriver(atom=f\"H 0 0 0; Li 0 0 {r}\", spin=0, basis=\"sto-3g\")\n",
    "    mol = driver.run()\n",
    "\n",
    "    mapper = JordanWignerMapper()\n",
    "\n",
    "    ansatz = UCCSD(\n",
    "    mol.num_spatial_orbitals,\n",
    "    mol.num_particles,\n",
    "    mapper,\n",
    "    initial_state=HartreeFock(\n",
    "        mol.num_spatial_orbitals,\n",
    "        mol.num_particles,\n",
    "        mapper))\n",
    "\n",
    "    return vqe_solver.solve(mol, ansatz)"
   ]
  },
  {
   "cell_type": "code",
   "execution_count": 4,
   "metadata": {},
   "outputs": [],
   "source": [
    "from pyscf import gto\n",
    "from pyscf import dft\n",
    "from pyscf import scf\n",
    "from pyscf.fci import FCI\n",
    "\n",
    "\n",
    "def calc_fci(r):\n",
    "    mol = gto.Mole()\n",
    "    mol.atom = f\"H 0 0 0; Li 0 0 {r}\"\n",
    "    mol.basis = 'sto-3g'\n",
    "    mol.spin=0\n",
    "    mol.build()\n",
    "\n",
    "    myhf = mol.RHF().run()\n",
    "    cisolver = FCI(myhf)\n",
    "    return cisolver.kernel()[0]\n",
    "\n",
    "def calc_hf(r):\n",
    "    mol = gto.Mole()\n",
    "    mol.atom = f\"H 0 0 0; Li 0 0 {r}\"\n",
    "    mol.basis = 'sto-3g'\n",
    "    mol.spin=0\n",
    "    mol.build()\n",
    "\n",
    "    mf = scf.RHF(mol)\n",
    "    return mf.kernel()"
   ]
  },
  {
   "cell_type": "code",
   "execution_count": 5,
   "metadata": {},
   "outputs": [],
   "source": [
    "lin = np.linspace(0.4, 5, 50)"
   ]
  },
  {
   "cell_type": "code",
   "execution_count": 6,
   "metadata": {},
   "outputs": [
    {
     "name": "stderr",
     "output_type": "stream",
     "text": [
      "/usr/local/miniconda3/lib/python3.7/site-packages/qiskit_nature/deprecation.py:297: PauliSumOpDeprecationWarning: PauliSumOp is deprecated as of version 0.6.0 and support for them will be removed no sooner than 3 months after the release. Instead, use SparsePauliOp. You can switch to SparsePauliOp immediately, by setting `qiskit_nature.settings.use_pauli_sum_op` to `False`.\n",
      "  return func(*args, **kwargs)\n"
     ]
    }
   ],
   "source": [
    "custom_curve = [calc_custom(r) for r in lin]\n",
    "# 25min 50 points"
   ]
  },
  {
   "cell_type": "code",
   "execution_count": 7,
   "metadata": {},
   "outputs": [
    {
     "name": "stdout",
     "output_type": "stream",
     "text": [
      "converged SCF energy = -6.61025894411095\n",
      "converged SCF energy = -7.00801797600133\n",
      "converged SCF energy = -7.27166341377629\n",
      "converged SCF energy = -7.45656855983761\n",
      "converged SCF energy = -7.58818983707388\n",
      "converged SCF energy = -7.6816759674701\n",
      "converged SCF energy = -7.7474522178209\n",
      "converged SCF energy = -7.7930714212914\n",
      "converged SCF energy = -7.82398290234091\n",
      "converged SCF energy = -7.84406585914762\n",
      "converged SCF energy = -7.85607957555334\n",
      "converged SCF energy = -7.86201344906152\n",
      "converged SCF energy = -7.86333162402099\n",
      "converged SCF energy = -7.861133540959\n",
      "converged SCF energy = -7.85625781262351\n",
      "converged SCF energy = -7.84935103282128\n",
      "converged SCF energy = -7.84091531353672\n",
      "converged SCF energy = -7.83134256976285\n",
      "converged SCF energy = -7.82094015984931\n",
      "converged SCF energy = -7.8099506131271\n",
      "converged SCF energy = -7.79856710151052\n",
      "converged SCF energy = -7.78694564807732\n",
      "converged SCF energy = -7.77521465277644\n",
      "converged SCF energy = -7.76348208806096\n",
      "converged SCF energy = -7.75184063265498\n",
      "converged SCF energy = -7.74037102349534\n",
      "converged SCF energy = -7.72914396235794\n",
      "converged SCF energy = -7.71822096653868\n",
      "converged SCF energy = -7.70765456813861\n",
      "converged SCF energy = -7.6974882306049\n",
      "converged SCF energy = -7.68775627088351\n",
      "converged SCF energy = -7.67848397134579\n",
      "converged SCF energy = -7.6696879618914\n",
      "converged SCF energy = -7.66137686893031\n",
      "converged SCF energy = -7.65355217412657\n",
      "converged SCF energy = -7.64620920180449\n",
      "converged SCF energy = -7.63933815347088\n",
      "converged SCF energy = -7.63292512039251\n",
      "converged SCF energy = -7.62695302664684\n",
      "converged SCF energy = -7.62140247164251\n",
      "converged SCF energy = -7.61625246077655\n",
      "converged SCF energy = -7.61148102029567\n",
      "converged SCF energy = -7.60706570659946\n",
      "converged SCF energy = -7.60298401441361\n",
      "converged SCF energy = -7.59921371359922\n",
      "converged SCF energy = -7.59573308925363\n",
      "converged SCF energy = -7.59252113741518\n",
      "SCF not converged.\n",
      "SCF energy = -7.5607658748066\n",
      "converged SCF energy = -7.56264083836994\n",
      "converged SCF energy = -7.56289059991529\n"
     ]
    }
   ],
   "source": [
    "hf_curve = [calc_hf(r) for r in lin]"
   ]
  },
  {
   "cell_type": "code",
   "execution_count": 8,
   "metadata": {},
   "outputs": [
    {
     "name": "stdout",
     "output_type": "stream",
     "text": [
      "converged SCF energy = -6.61025894411096\n",
      "converged SCF energy = -7.00801797600132\n",
      "converged SCF energy = -7.27166341377629\n",
      "converged SCF energy = -7.45656855983761\n",
      "converged SCF energy = -7.58818983707389\n",
      "converged SCF energy = -7.6816759674701\n",
      "converged SCF energy = -7.7474522178209\n",
      "converged SCF energy = -7.79307142129141\n",
      "converged SCF energy = -7.82398290234091\n",
      "converged SCF energy = -7.84406585914763\n",
      "converged SCF energy = -7.85607957555334\n",
      "converged SCF energy = -7.86201344906151\n",
      "converged SCF energy = -7.86333162402099\n",
      "converged SCF energy = -7.861133540959\n",
      "converged SCF energy = -7.8562578126235\n",
      "converged SCF energy = -7.84935103282129\n",
      "converged SCF energy = -7.84091531353672\n",
      "converged SCF energy = -7.83134256976285\n",
      "converged SCF energy = -7.82094015984931\n",
      "converged SCF energy = -7.8099506131271\n",
      "converged SCF energy = -7.79856710151053\n",
      "converged SCF energy = -7.78694564807732\n",
      "converged SCF energy = -7.77521465277644\n",
      "converged SCF energy = -7.76348208806097\n",
      "converged SCF energy = -7.75184063265498\n",
      "converged SCF energy = -7.74037102349534\n",
      "converged SCF energy = -7.72914396235794\n",
      "converged SCF energy = -7.71822096653868\n",
      "converged SCF energy = -7.70765456813861\n",
      "converged SCF energy = -7.6974882306049\n",
      "converged SCF energy = -7.68775627088351\n",
      "converged SCF energy = -7.67848397134579\n",
      "converged SCF energy = -7.66968796189139\n",
      "converged SCF energy = -7.66137686893032\n",
      "converged SCF energy = -7.65355217412656\n",
      "converged SCF energy = -7.64620920180449\n",
      "converged SCF energy = -7.63933815347088\n",
      "converged SCF energy = -7.63292512039266\n",
      "converged SCF energy = -7.62695302664685\n",
      "converged SCF energy = -7.62140247164251\n",
      "converged SCF energy = -7.61625246077655\n",
      "converged SCF energy = -7.61148102029567\n",
      "converged SCF energy = -7.60706570659945\n",
      "converged SCF energy = -7.60298401441366\n",
      "converged SCF energy = -7.59921371359889\n",
      "converged SCF energy = -7.59573308925366\n",
      "converged SCF energy = -7.59252113741519\n",
      "SCF not converged.\n",
      "SCF energy = -7.55020487029375\n",
      "converged SCF energy = -7.56264083836994\n",
      "converged SCF energy = -7.56289059991533\n"
     ]
    }
   ],
   "source": [
    "fci_curve = [calc_fci(r) for r in lin]"
   ]
  },
  {
   "cell_type": "code",
   "execution_count": 9,
   "metadata": {},
   "outputs": [],
   "source": [
    "# qiskit_curve = [calc_qiskit(r) for r in lin]"
   ]
  },
  {
   "cell_type": "code",
   "execution_count": 10,
   "metadata": {},
   "outputs": [
    {
     "data": {
      "text/plain": [
       "<matplotlib.legend.Legend at 0x7fe810a16150>"
      ]
     },
     "execution_count": 10,
     "metadata": {},
     "output_type": "execute_result"
    },
    {
     "data": {
      "image/png": "[encoded data removed]",
      "text/plain": [
       "<Figure size 432x288 with 1 Axes>"
      ]
     },
     "metadata": {
      "needs_background": "light"
     },
     "output_type": "display_data"
    }
   ],
   "source": [
    "import matplotlib.pyplot as plt\n",
    "\n",
    "plt.plot(lin, custom_curve, label=\"custom ansatz\")\n",
    "plt.plot(lin, fci_curve, label=\"fci\")\n",
    "plt.plot(lin, hf_curve, label=\"hf\")\n",
    "\n",
    "\n",
    "# plt.plot(lin, qiskit_curve, label=\"qiskit inbuilt ansatz\")\n",
    "\n",
    "plt.legend()"
   ]
  }
 ],
 "metadata": {
  "kernelspec": {
   "display_name": "base",
   "language": "python",
   "name": "python3"
  },
  "language_info": {
   "codemirror_mode": {
    "name": "ipython",
    "version": 3
   },
   "file_extension": ".py",
   "mimetype": "text/x-python",
   "name": "python",
   "nbconvert_exporter": "python",
   "pygments_lexer": "ipython3",
   "version": "3.7.9"
  },
  "orig_nbformat": 4
 },
 "nbformat": 4,
 "nbformat_minor": 2
}
