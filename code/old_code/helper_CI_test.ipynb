{
 "cells": [
  {
   "cell_type": "code",
   "execution_count": 1,
   "metadata": {},
   "outputs": [],
   "source": [
    "from helper_CI import Determinant, HamiltonianGenerator\n",
    "from itertools import combinations"
   ]
  },
  {
   "cell_type": "code",
   "execution_count": 2,
   "metadata": {},
   "outputs": [],
   "source": [
    "from qiskit_nature.second_q.drivers import PySCFDriver\n",
    "driver = PySCFDriver(atom=\"Li 0 0 0; Li 0 0 1\", basis=\"sto-3g\")\n",
    "mol = driver.run()"
   ]
  },
  {
   "cell_type": "code",
   "execution_count": 3,
   "metadata": {},
   "outputs": [
    {
     "name": "stderr",
     "output_type": "stream",
     "text": [
      "/usr/local/miniconda3/lib/python3.7/site-packages/qiskit_nature/deprecation.py:297: PauliSumOpDeprecationWarning: PauliSumOp is deprecated as of version 0.6.0 and support for them will be removed no sooner than 3 months after the release. Instead, use SparsePauliOp. You can switch to SparsePauliOp immediately, by setting `qiskit_nature.settings.use_pauli_sum_op` to `False`.\n",
      "  return func(*args, **kwargs)\n"
     ]
    },
    {
     "data": {
      "text/html": [
       "<pre style=\"word-wrap: normal;white-space: pre;background: #fff0;line-height: 1.1;font-family: &quot;Courier New&quot;,Courier,monospace\">      ┌───┐\n",
       " q_0: ┤ X ├\n",
       "      ├───┤\n",
       " q_1: ┤ X ├\n",
       "      ├───┤\n",
       " q_2: ┤ X ├\n",
       "      └───┘\n",
       " q_3: ─────\n",
       "           \n",
       " q_4: ─────\n",
       "           \n",
       " q_5: ─────\n",
       "           \n",
       " q_6: ─────\n",
       "           \n",
       " q_7: ─────\n",
       "           \n",
       " q_8: ─────\n",
       "           \n",
       " q_9: ─────\n",
       "      ┌───┐\n",
       "q_10: ┤ X ├\n",
       "      ├───┤\n",
       "q_11: ┤ X ├\n",
       "      ├───┤\n",
       "q_12: ┤ X ├\n",
       "      └───┘\n",
       "q_13: ─────\n",
       "           \n",
       "q_14: ─────\n",
       "           \n",
       "q_15: ─────\n",
       "           \n",
       "q_16: ─────\n",
       "           \n",
       "q_17: ─────\n",
       "           \n",
       "q_18: ─────\n",
       "           \n",
       "q_19: ─────\n",
       "           </pre>"
      ],
      "text/plain": [
       "      ┌───┐\n",
       " q_0: ┤ X ├\n",
       "      ├───┤\n",
       " q_1: ┤ X ├\n",
       "      ├───┤\n",
       " q_2: ┤ X ├\n",
       "      └───┘\n",
       " q_3: ─────\n",
       "           \n",
       " q_4: ─────\n",
       "           \n",
       " q_5: ─────\n",
       "           \n",
       " q_6: ─────\n",
       "           \n",
       " q_7: ─────\n",
       "           \n",
       " q_8: ─────\n",
       "           \n",
       " q_9: ─────\n",
       "      ┌───┐\n",
       "q_10: ┤ X ├\n",
       "      ├───┤\n",
       "q_11: ┤ X ├\n",
       "      ├───┤\n",
       "q_12: ┤ X ├\n",
       "      └───┘\n",
       "q_13: ─────\n",
       "           \n",
       "q_14: ─────\n",
       "           \n",
       "q_15: ─────\n",
       "           \n",
       "q_16: ─────\n",
       "           \n",
       "q_17: ─────\n",
       "           \n",
       "q_18: ─────\n",
       "           \n",
       "q_19: ─────\n",
       "           "
      ]
     },
     "execution_count": 3,
     "metadata": {},
     "output_type": "execute_result"
    }
   ],
   "source": [
    "from qiskit_nature.second_q.mappers import JordanWignerMapper\n",
    "mapper = JordanWignerMapper()\n",
    "\n",
    "from qiskit_nature.second_q.circuit.library import HartreeFock\n",
    "\n",
    "initial_state=HartreeFock( mol.num_spatial_orbitals, mol.num_particles, mapper)\n",
    "initial_state.draw()"
   ]
  },
  {
   "cell_type": "code",
   "execution_count": 4,
   "metadata": {},
   "outputs": [
    {
     "data": {
      "text/plain": [
       "20"
      ]
     },
     "execution_count": 4,
     "metadata": {},
     "output_type": "execute_result"
    }
   ],
   "source": [
    "mol.num_spin_orbitals"
   ]
  },
  {
   "cell_type": "code",
   "execution_count": 5,
   "metadata": {},
   "outputs": [
    {
     "data": {
      "text/plain": [
       "3"
      ]
     },
     "execution_count": 5,
     "metadata": {},
     "output_type": "execute_result"
    }
   ],
   "source": [
    "mol.num_alpha"
   ]
  },
  {
   "cell_type": "code",
   "execution_count": 6,
   "metadata": {},
   "outputs": [
    {
     "data": {
      "text/plain": [
       "3"
      ]
     },
     "execution_count": 6,
     "metadata": {},
     "output_type": "execute_result"
    }
   ],
   "source": [
    "mol.num_beta"
   ]
  },
  {
   "cell_type": "code",
   "execution_count": 7,
   "metadata": {},
   "outputs": [
    {
     "data": {
      "text/plain": [
       "10"
      ]
     },
     "execution_count": 7,
     "metadata": {},
     "output_type": "execute_result"
    }
   ],
   "source": [
    "mol.num_spatial_orbitals"
   ]
  },
  {
   "cell_type": "code",
   "execution_count": 8,
   "metadata": {},
   "outputs": [
    {
     "data": {
      "text/plain": [
       "array([1., 1., 1., 0., 0., 0., 0., 0., 0., 0.])"
      ]
     },
     "execution_count": 8,
     "metadata": {},
     "output_type": "execute_result"
    }
   ],
   "source": [
    "mol.orbital_occupations"
   ]
  },
  {
   "cell_type": "code",
   "execution_count": 9,
   "metadata": {},
   "outputs": [
    {
     "data": {
      "text/plain": [
       "array([1., 1., 1., 0., 0., 0., 0., 0., 0., 0.])"
      ]
     },
     "execution_count": 9,
     "metadata": {},
     "output_type": "execute_result"
    }
   ],
   "source": [
    "mol.orbital_occupations_b"
   ]
  },
  {
   "cell_type": "code",
   "execution_count": 10,
   "metadata": {},
   "outputs": [
    {
     "data": {
      "text/plain": [
       "[0, 1, 2]"
      ]
     },
     "execution_count": 10,
     "metadata": {},
     "output_type": "execute_result"
    }
   ],
   "source": [
    "occList = [int(i) for i,occ in enumerate(list(mol.orbital_occupations)) if occ == 1]\n",
    "occList"
   ]
  },
  {
   "cell_type": "code",
   "execution_count": 11,
   "metadata": {},
   "outputs": [],
   "source": [
    "det_ref = Determinant(alphaObtList=occList, betaObtList=[])\n",
    "detList = det_ref.generateSingleExcitationsOfDet(mol.num_spatial_orbitals)\n",
    "detList.append(det_ref)"
   ]
  },
  {
   "cell_type": "code",
   "execution_count": 12,
   "metadata": {},
   "outputs": [
    {
     "data": {
      "text/plain": [
       "[0, 1, 2]"
      ]
     },
     "execution_count": 12,
     "metadata": {},
     "output_type": "execute_result"
    }
   ],
   "source": [
    "occList"
   ]
  },
  {
   "cell_type": "code",
   "execution_count": 13,
   "metadata": {},
   "outputs": [
    {
     "name": "stdout",
     "output_type": "stream",
     "text": [
      "|[1, 2, 3][]>\n",
      "|[1, 2, 4][]>\n",
      "|[1, 2, 5][]>\n",
      "|[1, 2, 6][]>\n",
      "|[1, 2, 7][]>\n",
      "|[1, 2, 8][]>\n",
      "|[1, 2, 9][]>\n",
      "|[0, 2, 3][]>\n",
      "|[0, 2, 4][]>\n",
      "|[0, 2, 5][]>\n",
      "|[0, 2, 6][]>\n",
      "|[0, 2, 7][]>\n",
      "|[0, 2, 8][]>\n",
      "|[0, 2, 9][]>\n",
      "|[0, 1, 3][]>\n",
      "|[0, 1, 4][]>\n",
      "|[0, 1, 5][]>\n",
      "|[0, 1, 6][]>\n",
      "|[0, 1, 7][]>\n",
      "|[0, 1, 8][]>\n",
      "|[0, 1, 9][]>\n",
      "|[0, 1, 2][]>\n"
     ]
    }
   ],
   "source": [
    "for i in range(len(detList)):\n",
    "    print(detList[i])"
   ]
  },
  {
   "cell_type": "code",
   "execution_count": 14,
   "metadata": {},
   "outputs": [],
   "source": [
    "det_ref = Determinant(alphaObtList=occList, betaObtList=[])\n",
    "detList = det_ref.generateDoubleExcitationsOfDet(mol.num_spatial_orbitals)\n",
    "detList.append(det_ref)"
   ]
  },
  {
   "cell_type": "code",
   "execution_count": 15,
   "metadata": {},
   "outputs": [
    {
     "data": {
      "text/plain": [
       "[0, 1, 2]"
      ]
     },
     "execution_count": 15,
     "metadata": {},
     "output_type": "execute_result"
    }
   ],
   "source": [
    "occList"
   ]
  },
  {
   "cell_type": "code",
   "execution_count": 16,
   "metadata": {},
   "outputs": [
    {
     "name": "stdout",
     "output_type": "stream",
     "text": [
      "|[2, 3, 4][]>\n",
      "|[2, 3, 5][]>\n",
      "|[2, 3, 6][]>\n",
      "|[2, 3, 7][]>\n",
      "|[2, 3, 8][]>\n",
      "|[2, 3, 9][]>\n",
      "|[2, 4, 5][]>\n",
      "|[2, 4, 6][]>\n",
      "|[2, 4, 7][]>\n",
      "|[2, 4, 8][]>\n",
      "|[2, 4, 9][]>\n",
      "|[2, 5, 6][]>\n",
      "|[2, 5, 7][]>\n",
      "|[2, 5, 8][]>\n",
      "|[2, 5, 9][]>\n",
      "|[2, 6, 7][]>\n",
      "|[2, 6, 8][]>\n",
      "|[2, 6, 9][]>\n",
      "|[2, 7, 8][]>\n",
      "|[2, 7, 9][]>\n",
      "|[2, 8, 9][]>\n",
      "|[1, 3, 4][]>\n",
      "|[1, 3, 5][]>\n",
      "|[1, 3, 6][]>\n",
      "|[1, 3, 7][]>\n",
      "|[1, 3, 8][]>\n",
      "|[1, 3, 9][]>\n",
      "|[1, 4, 5][]>\n",
      "|[1, 4, 6][]>\n",
      "|[1, 4, 7][]>\n",
      "|[1, 4, 8][]>\n",
      "|[1, 4, 9][]>\n",
      "|[1, 5, 6][]>\n",
      "|[1, 5, 7][]>\n",
      "|[1, 5, 8][]>\n",
      "|[1, 5, 9][]>\n",
      "|[1, 6, 7][]>\n",
      "|[1, 6, 8][]>\n",
      "|[1, 6, 9][]>\n",
      "|[1, 7, 8][]>\n",
      "|[1, 7, 9][]>\n",
      "|[1, 8, 9][]>\n",
      "|[0, 3, 4][]>\n",
      "|[0, 3, 5][]>\n",
      "|[0, 3, 6][]>\n",
      "|[0, 3, 7][]>\n",
      "|[0, 3, 8][]>\n",
      "|[0, 3, 9][]>\n",
      "|[0, 4, 5][]>\n",
      "|[0, 4, 6][]>\n",
      "|[0, 4, 7][]>\n",
      "|[0, 4, 8][]>\n",
      "|[0, 4, 9][]>\n",
      "|[0, 5, 6][]>\n",
      "|[0, 5, 7][]>\n",
      "|[0, 5, 8][]>\n",
      "|[0, 5, 9][]>\n",
      "|[0, 6, 7][]>\n",
      "|[0, 6, 8][]>\n",
      "|[0, 6, 9][]>\n",
      "|[0, 7, 8][]>\n",
      "|[0, 7, 9][]>\n",
      "|[0, 8, 9][]>\n",
      "|[0, 1, 2][]>\n"
     ]
    }
   ],
   "source": [
    "for i in range(len(detList)):\n",
    "    print(detList[i])"
   ]
  },
  {
   "cell_type": "code",
   "execution_count": 17,
   "metadata": {},
   "outputs": [
    {
     "data": {
      "text/plain": [
       "[2, 3, 4]"
      ]
     },
     "execution_count": 17,
     "metadata": {},
     "output_type": "execute_result"
    }
   ],
   "source": [
    "detList[0].obtBits2ObtIndexList(detList[0].alphaObtBits)"
   ]
  },
  {
   "attachments": {},
   "cell_type": "markdown",
   "metadata": {},
   "source": [
    "# manual excitations"
   ]
  },
  {
   "cell_type": "code",
   "execution_count": 18,
   "metadata": {},
   "outputs": [],
   "source": [
    "from qiskit_nature.second_q.drivers import PySCFDriver\n",
    "driver = PySCFDriver(atom=\"H 0 0 0; Li 0 0 1; H 0 0 2\", spin=1, basis=\"sto-3g\")\n",
    "mol = driver.run()"
   ]
  },
  {
   "cell_type": "code",
   "execution_count": 19,
   "metadata": {},
   "outputs": [
    {
     "data": {
      "text/html": [
       "<pre style=\"word-wrap: normal;white-space: pre;background: #fff0;line-height: 1.1;font-family: &quot;Courier New&quot;,Courier,monospace\">      ┌───┐\n",
       " q_0: ┤ X ├\n",
       "      ├───┤\n",
       " q_1: ┤ X ├\n",
       "      ├───┤\n",
       " q_2: ┤ X ├\n",
       "      └───┘\n",
       " q_3: ─────\n",
       "           \n",
       " q_4: ─────\n",
       "           \n",
       " q_5: ─────\n",
       "           \n",
       " q_6: ─────\n",
       "      ┌───┐\n",
       " q_7: ┤ X ├\n",
       "      ├───┤\n",
       " q_8: ┤ X ├\n",
       "      └───┘\n",
       " q_9: ─────\n",
       "           \n",
       "q_10: ─────\n",
       "           \n",
       "q_11: ─────\n",
       "           \n",
       "q_12: ─────\n",
       "           \n",
       "q_13: ─────\n",
       "           </pre>"
      ],
      "text/plain": [
       "      ┌───┐\n",
       " q_0: ┤ X ├\n",
       "      ├───┤\n",
       " q_1: ┤ X ├\n",
       "      ├───┤\n",
       " q_2: ┤ X ├\n",
       "      └───┘\n",
       " q_3: ─────\n",
       "           \n",
       " q_4: ─────\n",
       "           \n",
       " q_5: ─────\n",
       "           \n",
       " q_6: ─────\n",
       "      ┌───┐\n",
       " q_7: ┤ X ├\n",
       "      ├───┤\n",
       " q_8: ┤ X ├\n",
       "      └───┘\n",
       " q_9: ─────\n",
       "           \n",
       "q_10: ─────\n",
       "           \n",
       "q_11: ─────\n",
       "           \n",
       "q_12: ─────\n",
       "           \n",
       "q_13: ─────\n",
       "           "
      ]
     },
     "execution_count": 19,
     "metadata": {},
     "output_type": "execute_result"
    }
   ],
   "source": [
    "from qiskit_nature.second_q.mappers import JordanWignerMapper\n",
    "mapper = JordanWignerMapper()\n",
    "\n",
    "from qiskit_nature.second_q.circuit.library import HartreeFock\n",
    "\n",
    "initial_state=HartreeFock( mol.num_spatial_orbitals, mol.num_particles, mapper)\n",
    "initial_state.draw()"
   ]
  },
  {
   "attachments": {},
   "cell_type": "markdown",
   "metadata": {},
   "source": [
    "Here double excitations for pCCD are generated"
   ]
  },
  {
   "cell_type": "code",
   "execution_count": 20,
   "metadata": {},
   "outputs": [
    {
     "data": {
      "text/plain": [
       "7"
      ]
     },
     "execution_count": 20,
     "metadata": {},
     "output_type": "execute_result"
    }
   ],
   "source": [
    "mol.num_spatial_orbitals"
   ]
  },
  {
   "cell_type": "code",
   "execution_count": 21,
   "metadata": {},
   "outputs": [
    {
     "data": {
      "text/plain": [
       "array([1., 1., 1., 0., 0., 0., 0.])"
      ]
     },
     "execution_count": 21,
     "metadata": {},
     "output_type": "execute_result"
    }
   ],
   "source": [
    "mol.orbital_occupations"
   ]
  },
  {
   "cell_type": "code",
   "execution_count": 22,
   "metadata": {},
   "outputs": [
    {
     "data": {
      "text/plain": [
       "array([1., 1., 0., 0., 0., 0., 0.])"
      ]
     },
     "execution_count": 22,
     "metadata": {},
     "output_type": "execute_result"
    }
   ],
   "source": [
    "mol.orbital_occupations_b"
   ]
  },
  {
   "cell_type": "code",
   "execution_count": 23,
   "metadata": {},
   "outputs": [
    {
     "data": {
      "text/plain": [
       "array([2., 2., 1., 0., 0., 0., 0.])"
      ]
     },
     "execution_count": 23,
     "metadata": {},
     "output_type": "execute_result"
    }
   ],
   "source": [
    "occ = mol.orbital_occupations + mol.orbital_occupations_b\n",
    "occ"
   ]
  },
  {
   "cell_type": "code",
   "execution_count": 24,
   "metadata": {},
   "outputs": [
    {
     "name": "stdout",
     "output_type": "stream",
     "text": [
      "[[0, 7], [3, 10]]\n",
      "[[0, 7], [4, 11]]\n",
      "[[0, 7], [5, 12]]\n",
      "[[0, 7], [6, 13]]\n",
      "[[1, 8], [3, 10]]\n",
      "[[1, 8], [4, 11]]\n",
      "[[1, 8], [5, 12]]\n",
      "[[1, 8], [6, 13]]\n"
     ]
    }
   ],
   "source": [
    "pair_doubles = [[[[i,i+mol.num_spatial_orbitals],[j,j+mol.num_spatial_orbitals]] \n",
    "                 for j,o in enumerate(occ) if o==0] for i,s in enumerate(occ) if s==2]\n",
    "\n",
    "new_pair_doubles = []\n",
    "for lst in pair_doubles:\n",
    "    new_pair_doubles += lst\n",
    "\n",
    "for exc in new_pair_doubles:\n",
    "    print(exc)"
   ]
  },
  {
   "attachments": {},
   "cell_type": "markdown",
   "metadata": {},
   "source": [
    "# defining a function"
   ]
  },
  {
   "cell_type": "code",
   "execution_count": 25,
   "metadata": {},
   "outputs": [],
   "source": [
    "def generate_pCCD_excitations(mol):\n",
    "    # list of occupations\n",
    "    occ = mol.orbital_occupations + mol.orbital_occupations_b\n",
    "\n",
    "    # pair doubles, \n",
    "    pair_doubles = [[[[i,i+mol.num_spatial_orbitals],[j,j+mol.num_spatial_orbitals]] \n",
    "                 for j,o in enumerate(occ) if o==0] for i,s in enumerate(occ) if s==2]\n",
    "    \n",
    "    # concatenating the lists of spatial orbital excitations into one\n",
    "    full_pair_doubles = []\n",
    "    for lst in pair_doubles:\n",
    "        full_pair_doubles += lst\n",
    "\n",
    "    return full_pair_doubles"
   ]
  },
  {
   "cell_type": "code",
   "execution_count": 26,
   "metadata": {},
   "outputs": [
    {
     "data": {
      "text/html": [
       "<pre style=\"word-wrap: normal;white-space: pre;background: #fff0;line-height: 1.1;font-family: &quot;Courier New&quot;,Courier,monospace\">      ┌───┐\n",
       " q_0: ┤ X ├\n",
       "      ├───┤\n",
       " q_1: ┤ X ├\n",
       "      ├───┤\n",
       " q_2: ┤ X ├\n",
       "      └───┘\n",
       " q_3: ─────\n",
       "           \n",
       " q_4: ─────\n",
       "           \n",
       " q_5: ─────\n",
       "           \n",
       " q_6: ─────\n",
       "           \n",
       " q_7: ─────\n",
       "      ┌───┐\n",
       " q_8: ┤ X ├\n",
       "      ├───┤\n",
       " q_9: ┤ X ├\n",
       "      ├───┤\n",
       "q_10: ┤ X ├\n",
       "      └───┘\n",
       "q_11: ─────\n",
       "           \n",
       "q_12: ─────\n",
       "           \n",
       "q_13: ─────\n",
       "           \n",
       "q_14: ─────\n",
       "           \n",
       "q_15: ─────\n",
       "           </pre>"
      ],
      "text/plain": [
       "      ┌───┐\n",
       " q_0: ┤ X ├\n",
       "      ├───┤\n",
       " q_1: ┤ X ├\n",
       "      ├───┤\n",
       " q_2: ┤ X ├\n",
       "      └───┘\n",
       " q_3: ─────\n",
       "           \n",
       " q_4: ─────\n",
       "           \n",
       " q_5: ─────\n",
       "           \n",
       " q_6: ─────\n",
       "           \n",
       " q_7: ─────\n",
       "      ┌───┐\n",
       " q_8: ┤ X ├\n",
       "      ├───┤\n",
       " q_9: ┤ X ├\n",
       "      ├───┤\n",
       "q_10: ┤ X ├\n",
       "      └───┘\n",
       "q_11: ─────\n",
       "           \n",
       "q_12: ─────\n",
       "           \n",
       "q_13: ─────\n",
       "           \n",
       "q_14: ─────\n",
       "           \n",
       "q_15: ─────\n",
       "           "
      ]
     },
     "execution_count": 26,
     "metadata": {},
     "output_type": "execute_result"
    }
   ],
   "source": [
    "from qiskit_nature.second_q.drivers import PySCFDriver\n",
    "driver = PySCFDriver(atom=\"H 0 0 0; H 0 0 1; Li 0 0 2; H 0 0 3\", spin=0, basis=\"sto-3g\")\n",
    "mol = driver.run()\n",
    "\n",
    "from qiskit_nature.second_q.mappers import JordanWignerMapper\n",
    "mapper = JordanWignerMapper()\n",
    "\n",
    "from qiskit_nature.second_q.circuit.library import HartreeFock\n",
    "\n",
    "initial_state=HartreeFock( mol.num_spatial_orbitals, mol.num_particles, mapper)\n",
    "initial_state.draw()\n"
   ]
  },
  {
   "cell_type": "code",
   "execution_count": 27,
   "metadata": {},
   "outputs": [
    {
     "name": "stdout",
     "output_type": "stream",
     "text": [
      "[[0, 8], [3, 11]]\n",
      "[[0, 8], [4, 12]]\n",
      "[[0, 8], [5, 13]]\n",
      "[[0, 8], [6, 14]]\n",
      "[[0, 8], [7, 15]]\n",
      "[[1, 9], [3, 11]]\n",
      "[[1, 9], [4, 12]]\n",
      "[[1, 9], [5, 13]]\n",
      "[[1, 9], [6, 14]]\n",
      "[[1, 9], [7, 15]]\n",
      "[[2, 10], [3, 11]]\n",
      "[[2, 10], [4, 12]]\n",
      "[[2, 10], [5, 13]]\n",
      "[[2, 10], [6, 14]]\n",
      "[[2, 10], [7, 15]]\n"
     ]
    }
   ],
   "source": [
    "for exc in generate_pCCD_excitations(mol):\n",
    "    print(exc)"
   ]
  },
  {
   "attachments": {},
   "cell_type": "markdown",
   "metadata": {},
   "source": [
    "# Singles"
   ]
  },
  {
   "cell_type": "code",
   "execution_count": 28,
   "metadata": {},
   "outputs": [],
   "source": [
    "def generate_CCS_excitations(mol):\n",
    "    # list of occupations\n",
    "    occ = list(mol.orbital_occupations) + list(mol.orbital_occupations_b)\n",
    "\n",
    "    lst = [[[[i],[j]] for j,o in enumerate(occ) if o==0] for i,s in enumerate(occ) if s==1]\n",
    "\n",
    "    full_singles = []\n",
    "    for lst in lst:\n",
    "        full_singles += lst\n",
    "\n",
    "    return full_singles"
   ]
  },
  {
   "cell_type": "code",
   "execution_count": 29,
   "metadata": {},
   "outputs": [
    {
     "data": {
      "text/html": [
       "<pre style=\"word-wrap: normal;white-space: pre;background: #fff0;line-height: 1.1;font-family: &quot;Courier New&quot;,Courier,monospace\">     ┌───┐\n",
       "q_0: ┤ X ├\n",
       "     └───┘\n",
       "q_1: ─────\n",
       "     ┌───┐\n",
       "q_2: ┤ X ├\n",
       "     └───┘\n",
       "q_3: ─────\n",
       "          </pre>"
      ],
      "text/plain": [
       "     ┌───┐\n",
       "q_0: ┤ X ├\n",
       "     └───┘\n",
       "q_1: ─────\n",
       "     ┌───┐\n",
       "q_2: ┤ X ├\n",
       "     └───┘\n",
       "q_3: ─────\n",
       "          "
      ]
     },
     "execution_count": 29,
     "metadata": {},
     "output_type": "execute_result"
    }
   ],
   "source": [
    "from qiskit_nature.second_q.drivers import PySCFDriver\n",
    "driver = PySCFDriver(atom=\"H 0 0 0; H 0 0 1\", spin=0, basis=\"sto-3g\")\n",
    "mol = driver.run()\n",
    "\n",
    "from qiskit_nature.second_q.mappers import JordanWignerMapper\n",
    "mapper = JordanWignerMapper()\n",
    "\n",
    "from qiskit_nature.second_q.circuit.library import HartreeFock\n",
    "\n",
    "initial_state=HartreeFock( mol.num_spatial_orbitals, mol.num_particles, mapper)\n",
    "initial_state.draw()"
   ]
  },
  {
   "cell_type": "code",
   "execution_count": 30,
   "metadata": {},
   "outputs": [
    {
     "data": {
      "text/plain": [
       "[1.0, 0.0, 1.0, 0.0]"
      ]
     },
     "execution_count": 30,
     "metadata": {},
     "output_type": "execute_result"
    }
   ],
   "source": [
    "occ = list(mol.orbital_occupations) + list(mol.orbital_occupations_b)\n",
    "occ"
   ]
  },
  {
   "cell_type": "code",
   "execution_count": 31,
   "metadata": {},
   "outputs": [
    {
     "name": "stdout",
     "output_type": "stream",
     "text": [
      "[[0], [1]]\n",
      "[[0], [3]]\n",
      "[[2], [1]]\n",
      "[[2], [3]]\n"
     ]
    }
   ],
   "source": [
    "lst = [[[[i],[j]] for j,o in enumerate(occ) if o==0] for i,s in enumerate(occ) if s==1]\n",
    "\n",
    "full_singles = []\n",
    "for lst in lst:\n",
    "    full_singles += lst\n",
    "\n",
    "for i in full_singles:\n",
    "    print(i)"
   ]
  },
  {
   "cell_type": "code",
   "execution_count": 32,
   "metadata": {},
   "outputs": [
    {
     "data": {
      "text/plain": [
       "[[[0], [1]], [[0], [3]], [[2], [1]], [[2], [3]]]"
      ]
     },
     "execution_count": 32,
     "metadata": {},
     "output_type": "execute_result"
    }
   ],
   "source": [
    "generate_CCS_excitations(mol)"
   ]
  },
  {
   "attachments": {},
   "cell_type": "markdown",
   "metadata": {},
   "source": [
    "# doubles"
   ]
  },
  {
   "cell_type": "code",
   "execution_count": 33,
   "metadata": {},
   "outputs": [
    {
     "data": {
      "text/html": [
       "<pre style=\"word-wrap: normal;white-space: pre;background: #fff0;line-height: 1.1;font-family: &quot;Courier New&quot;,Courier,monospace\">      ┌───┐\n",
       " q_0: ┤ X ├\n",
       "      ├───┤\n",
       " q_1: ┤ X ├\n",
       "      └───┘\n",
       " q_2: ─────\n",
       "           \n",
       " q_3: ─────\n",
       "           \n",
       " q_4: ─────\n",
       "           \n",
       " q_5: ─────\n",
       "      ┌───┐\n",
       " q_6: ┤ X ├\n",
       "      ├───┤\n",
       " q_7: ┤ X ├\n",
       "      └───┘\n",
       " q_8: ─────\n",
       "           \n",
       " q_9: ─────\n",
       "           \n",
       "q_10: ─────\n",
       "           \n",
       "q_11: ─────\n",
       "           </pre>"
      ],
      "text/plain": [
       "      ┌───┐\n",
       " q_0: ┤ X ├\n",
       "      ├───┤\n",
       " q_1: ┤ X ├\n",
       "      └───┘\n",
       " q_2: ─────\n",
       "           \n",
       " q_3: ─────\n",
       "           \n",
       " q_4: ─────\n",
       "           \n",
       " q_5: ─────\n",
       "      ┌───┐\n",
       " q_6: ┤ X ├\n",
       "      ├───┤\n",
       " q_7: ┤ X ├\n",
       "      └───┘\n",
       " q_8: ─────\n",
       "           \n",
       " q_9: ─────\n",
       "           \n",
       "q_10: ─────\n",
       "           \n",
       "q_11: ─────\n",
       "           "
      ]
     },
     "execution_count": 33,
     "metadata": {},
     "output_type": "execute_result"
    }
   ],
   "source": [
    "from qiskit_nature.second_q.drivers import PySCFDriver\n",
    "driver = PySCFDriver(atom=\"H 0 0 0; Li 0 0 1\", spin=0, basis=\"sto-3g\")\n",
    "mol = driver.run()\n",
    "\n",
    "from qiskit_nature.second_q.mappers import JordanWignerMapper\n",
    "mapper = JordanWignerMapper()\n",
    "\n",
    "from qiskit_nature.second_q.circuit.library import HartreeFock\n",
    "\n",
    "initial_state=HartreeFock( mol.num_spatial_orbitals, mol.num_particles, mapper)\n",
    "initial_state.draw()"
   ]
  },
  {
   "cell_type": "code",
   "execution_count": 34,
   "metadata": {},
   "outputs": [],
   "source": [
    "occ = list(mol.orbital_occupations) + list(mol.orbital_occupations_b)"
   ]
  },
  {
   "cell_type": "code",
   "execution_count": 35,
   "metadata": {},
   "outputs": [
    {
     "data": {
      "text/plain": [
       "[1.0, 1.0, 0.0, 0.0, 0.0, 0.0, 1.0, 1.0, 0.0, 0.0, 0.0, 0.0]"
      ]
     },
     "execution_count": 35,
     "metadata": {},
     "output_type": "execute_result"
    }
   ],
   "source": [
    "occ"
   ]
  },
  {
   "cell_type": "code",
   "execution_count": 36,
   "metadata": {},
   "outputs": [
    {
     "data": {
      "text/plain": [
       "[0, 1, 6, 7]"
      ]
     },
     "execution_count": 36,
     "metadata": {},
     "output_type": "execute_result"
    }
   ],
   "source": [
    "# all occupied\n",
    "occ_list = [ i for i,o in enumerate(occ) if o==1]\n",
    "occ_list"
   ]
  },
  {
   "cell_type": "code",
   "execution_count": 37,
   "metadata": {},
   "outputs": [
    {
     "data": {
      "text/plain": [
       "[2, 3, 4, 5, 8, 9, 10, 11]"
      ]
     },
     "execution_count": 37,
     "metadata": {},
     "output_type": "execute_result"
    }
   ],
   "source": [
    "# all virtual\n",
    "vir_list = [ i for i,o in enumerate(occ) if o==0]\n",
    "vir_list"
   ]
  },
  {
   "cell_type": "code",
   "execution_count": 38,
   "metadata": {},
   "outputs": [
    {
     "data": {
      "text/plain": [
       "[(0, 1), (0, 6), (0, 7), (1, 6), (1, 7), (6, 7)]"
      ]
     },
     "execution_count": 38,
     "metadata": {},
     "output_type": "execute_result"
    }
   ],
   "source": [
    "from itertools import combinations, product\n",
    "\n",
    "occ_pairs = list(combinations(occ_list, 2))\n",
    "occ_pairs"
   ]
  },
  {
   "cell_type": "code",
   "execution_count": 39,
   "metadata": {},
   "outputs": [
    {
     "data": {
      "text/plain": [
       "[(2, 3),\n",
       " (2, 4),\n",
       " (2, 5),\n",
       " (2, 8),\n",
       " (2, 9),\n",
       " (2, 10),\n",
       " (2, 11),\n",
       " (3, 4),\n",
       " (3, 5),\n",
       " (3, 8),\n",
       " (3, 9),\n",
       " (3, 10),\n",
       " (3, 11),\n",
       " (4, 5),\n",
       " (4, 8),\n",
       " (4, 9),\n",
       " (4, 10),\n",
       " (4, 11),\n",
       " (5, 8),\n",
       " (5, 9),\n",
       " (5, 10),\n",
       " (5, 11),\n",
       " (8, 9),\n",
       " (8, 10),\n",
       " (8, 11),\n",
       " (9, 10),\n",
       " (9, 11),\n",
       " (10, 11)]"
      ]
     },
     "execution_count": 39,
     "metadata": {},
     "output_type": "execute_result"
    }
   ],
   "source": [
    "vir_pairs = list(combinations(vir_list, 2))\n",
    "vir_pairs"
   ]
  },
  {
   "cell_type": "code",
   "execution_count": 40,
   "metadata": {},
   "outputs": [
    {
     "data": {
      "text/plain": [
       "[[[0, 6], [2, 8]],\n",
       " [[0, 6], [3, 9]],\n",
       " [[0, 6], [4, 10]],\n",
       " [[0, 6], [5, 11]],\n",
       " [[1, 7], [2, 8]],\n",
       " [[1, 7], [3, 9]],\n",
       " [[1, 7], [4, 10]],\n",
       " [[1, 7], [5, 11]]]"
      ]
     },
     "execution_count": 40,
     "metadata": {},
     "output_type": "execute_result"
    }
   ],
   "source": [
    "generate_pCCD_excitations(mol)"
   ]
  },
  {
   "cell_type": "code",
   "execution_count": 41,
   "metadata": {},
   "outputs": [
    {
     "data": {
      "text/plain": [
       "6"
      ]
     },
     "execution_count": 41,
     "metadata": {},
     "output_type": "execute_result"
    }
   ],
   "source": [
    "len(occ_pairs)"
   ]
  },
  {
   "cell_type": "code",
   "execution_count": 42,
   "metadata": {},
   "outputs": [
    {
     "data": {
      "text/plain": [
       "28"
      ]
     },
     "execution_count": 42,
     "metadata": {},
     "output_type": "execute_result"
    }
   ],
   "source": [
    "len(vir_pairs)"
   ]
  },
  {
   "cell_type": "code",
   "execution_count": 43,
   "metadata": {},
   "outputs": [
    {
     "data": {
      "text/plain": [
       "168"
      ]
     },
     "execution_count": 43,
     "metadata": {},
     "output_type": "execute_result"
    }
   ],
   "source": [
    "len(vir_pairs) * len(occ_pairs)"
   ]
  },
  {
   "cell_type": "code",
   "execution_count": 44,
   "metadata": {},
   "outputs": [
    {
     "name": "stdout",
     "output_type": "stream",
     "text": [
      "168\n",
      "((0, 1), (2, 3))\n",
      "((0, 1), (2, 4))\n",
      "((0, 1), (2, 5))\n",
      "((0, 1), (2, 8))\n",
      "((0, 1), (2, 9))\n",
      "((0, 1), (2, 10))\n",
      "((0, 1), (2, 11))\n",
      "((0, 1), (3, 4))\n",
      "((0, 1), (3, 5))\n",
      "((0, 1), (3, 8))\n",
      "((0, 1), (3, 9))\n",
      "((0, 1), (3, 10))\n",
      "((0, 1), (3, 11))\n",
      "((0, 1), (4, 5))\n",
      "((0, 1), (4, 8))\n",
      "((0, 1), (4, 9))\n",
      "((0, 1), (4, 10))\n",
      "((0, 1), (4, 11))\n",
      "((0, 1), (5, 8))\n",
      "((0, 1), (5, 9))\n",
      "((0, 1), (5, 10))\n",
      "((0, 1), (5, 11))\n",
      "((0, 1), (8, 9))\n",
      "((0, 1), (8, 10))\n",
      "((0, 1), (8, 11))\n",
      "((0, 1), (9, 10))\n",
      "((0, 1), (9, 11))\n",
      "((0, 1), (10, 11))\n",
      "((0, 6), (2, 3))\n",
      "((0, 6), (2, 4))\n",
      "((0, 6), (2, 5))\n",
      "((0, 6), (2, 8))\n",
      "((0, 6), (2, 9))\n",
      "((0, 6), (2, 10))\n",
      "((0, 6), (2, 11))\n",
      "((0, 6), (3, 4))\n",
      "((0, 6), (3, 5))\n",
      "((0, 6), (3, 8))\n",
      "((0, 6), (3, 9))\n",
      "((0, 6), (3, 10))\n",
      "((0, 6), (3, 11))\n",
      "((0, 6), (4, 5))\n",
      "((0, 6), (4, 8))\n",
      "((0, 6), (4, 9))\n",
      "((0, 6), (4, 10))\n",
      "((0, 6), (4, 11))\n",
      "((0, 6), (5, 8))\n",
      "((0, 6), (5, 9))\n",
      "((0, 6), (5, 10))\n",
      "((0, 6), (5, 11))\n",
      "((0, 6), (8, 9))\n",
      "((0, 6), (8, 10))\n",
      "((0, 6), (8, 11))\n",
      "((0, 6), (9, 10))\n",
      "((0, 6), (9, 11))\n",
      "((0, 6), (10, 11))\n",
      "((0, 7), (2, 3))\n",
      "((0, 7), (2, 4))\n",
      "((0, 7), (2, 5))\n",
      "((0, 7), (2, 8))\n",
      "((0, 7), (2, 9))\n",
      "((0, 7), (2, 10))\n",
      "((0, 7), (2, 11))\n",
      "((0, 7), (3, 4))\n",
      "((0, 7), (3, 5))\n",
      "((0, 7), (3, 8))\n",
      "((0, 7), (3, 9))\n",
      "((0, 7), (3, 10))\n",
      "((0, 7), (3, 11))\n",
      "((0, 7), (4, 5))\n",
      "((0, 7), (4, 8))\n",
      "((0, 7), (4, 9))\n",
      "((0, 7), (4, 10))\n",
      "((0, 7), (4, 11))\n",
      "((0, 7), (5, 8))\n",
      "((0, 7), (5, 9))\n",
      "((0, 7), (5, 10))\n",
      "((0, 7), (5, 11))\n",
      "((0, 7), (8, 9))\n",
      "((0, 7), (8, 10))\n",
      "((0, 7), (8, 11))\n",
      "((0, 7), (9, 10))\n",
      "((0, 7), (9, 11))\n",
      "((0, 7), (10, 11))\n",
      "((1, 6), (2, 3))\n",
      "((1, 6), (2, 4))\n",
      "((1, 6), (2, 5))\n",
      "((1, 6), (2, 8))\n",
      "((1, 6), (2, 9))\n",
      "((1, 6), (2, 10))\n",
      "((1, 6), (2, 11))\n",
      "((1, 6), (3, 4))\n",
      "((1, 6), (3, 5))\n",
      "((1, 6), (3, 8))\n",
      "((1, 6), (3, 9))\n",
      "((1, 6), (3, 10))\n",
      "((1, 6), (3, 11))\n",
      "((1, 6), (4, 5))\n",
      "((1, 6), (4, 8))\n",
      "((1, 6), (4, 9))\n",
      "((1, 6), (4, 10))\n",
      "((1, 6), (4, 11))\n",
      "((1, 6), (5, 8))\n",
      "((1, 6), (5, 9))\n",
      "((1, 6), (5, 10))\n",
      "((1, 6), (5, 11))\n",
      "((1, 6), (8, 9))\n",
      "((1, 6), (8, 10))\n",
      "((1, 6), (8, 11))\n",
      "((1, 6), (9, 10))\n",
      "((1, 6), (9, 11))\n",
      "((1, 6), (10, 11))\n",
      "((1, 7), (2, 3))\n",
      "((1, 7), (2, 4))\n",
      "((1, 7), (2, 5))\n",
      "((1, 7), (2, 8))\n",
      "((1, 7), (2, 9))\n",
      "((1, 7), (2, 10))\n",
      "((1, 7), (2, 11))\n",
      "((1, 7), (3, 4))\n",
      "((1, 7), (3, 5))\n",
      "((1, 7), (3, 8))\n",
      "((1, 7), (3, 9))\n",
      "((1, 7), (3, 10))\n",
      "((1, 7), (3, 11))\n",
      "((1, 7), (4, 5))\n",
      "((1, 7), (4, 8))\n",
      "((1, 7), (4, 9))\n",
      "((1, 7), (4, 10))\n",
      "((1, 7), (4, 11))\n",
      "((1, 7), (5, 8))\n",
      "((1, 7), (5, 9))\n",
      "((1, 7), (5, 10))\n",
      "((1, 7), (5, 11))\n",
      "((1, 7), (8, 9))\n",
      "((1, 7), (8, 10))\n",
      "((1, 7), (8, 11))\n",
      "((1, 7), (9, 10))\n",
      "((1, 7), (9, 11))\n",
      "((1, 7), (10, 11))\n",
      "((6, 7), (2, 3))\n",
      "((6, 7), (2, 4))\n",
      "((6, 7), (2, 5))\n",
      "((6, 7), (2, 8))\n",
      "((6, 7), (2, 9))\n",
      "((6, 7), (2, 10))\n",
      "((6, 7), (2, 11))\n",
      "((6, 7), (3, 4))\n",
      "((6, 7), (3, 5))\n",
      "((6, 7), (3, 8))\n",
      "((6, 7), (3, 9))\n",
      "((6, 7), (3, 10))\n",
      "((6, 7), (3, 11))\n",
      "((6, 7), (4, 5))\n",
      "((6, 7), (4, 8))\n",
      "((6, 7), (4, 9))\n",
      "((6, 7), (4, 10))\n",
      "((6, 7), (4, 11))\n",
      "((6, 7), (5, 8))\n",
      "((6, 7), (5, 9))\n",
      "((6, 7), (5, 10))\n",
      "((6, 7), (5, 11))\n",
      "((6, 7), (8, 9))\n",
      "((6, 7), (8, 10))\n",
      "((6, 7), (8, 11))\n",
      "((6, 7), (9, 10))\n",
      "((6, 7), (9, 11))\n",
      "((6, 7), (10, 11))\n"
     ]
    }
   ],
   "source": [
    "cartesian_product = list(product(occ_pairs, vir_pairs))\n",
    "\n",
    "print(len(cartesian_product))\n",
    "\n",
    "for exc in cartesian_product:\n",
    "    print(exc)"
   ]
  },
  {
   "cell_type": "code",
   "execution_count": null,
   "metadata": {},
   "outputs": [],
   "source": []
  }
 ],
 "metadata": {
  "kernelspec": {
   "display_name": "base",
   "language": "python",
   "name": "python3"
  },
  "language_info": {
   "codemirror_mode": {
    "name": "ipython",
    "version": 3
   },
   "file_extension": ".py",
   "mimetype": "text/x-python",
   "name": "python",
   "nbconvert_exporter": "python",
   "pygments_lexer": "ipython3",
   "version": "3.7.9"
  },
  "orig_nbformat": 4
 },
 "nbformat": 4,
 "nbformat_minor": 2
}
